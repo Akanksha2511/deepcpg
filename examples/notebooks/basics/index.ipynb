{
 "cells": [
  {
   "cell_type": "markdown",
   "metadata": {
    "deletable": true,
    "editable": true
   },
   "source": [
    "# DeepCpG basics"
   ]
  },
  {
   "cell_type": "markdown",
   "metadata": {
    "deletable": true,
    "editable": true
   },
   "source": [
    "This tutorial describes how to create DeepCpG data files, train models, and evaluate models. These topics are described in greater detail in the [DeepCpG documentation](http://deepcpg.readthedocs.io/en/latest/)."
   ]
  },
  {
   "cell_type": "markdown",
   "metadata": {
    "deletable": true,
    "editable": true
   },
   "source": [
    "## Table of Contents\n",
    "* [Initialization](#Initialization)\n",
    "* [Creating DeepCpG data files](#Creating-DeepCpG-data-files)\n",
    "* [Training models](#Training-models)\n",
    "* [Imputing methylation profiles](#Imputing-methylation-profiles)\n",
    "* [Exporting methylation profiles](#Exporting-methylation-profiles)\n",
    "* [Evaluating prediction performances](#Evaluating-prediction-performances)"
   ]
  },
  {
   "cell_type": "markdown",
   "metadata": {
    "deletable": true,
    "editable": true
   },
   "source": [
    "## Initialization"
   ]
  },
  {
   "cell_type": "markdown",
   "metadata": {
    "deletable": true,
    "editable": true
   },
   "source": [
    "We first initialize some variables that will be used throughout the tutorial. `test_mode=1` should be used for testing purposes, which speeds up computations by only using a subset of the data. For real applications, `test_mode=0` should be used."
   ]
  },
  {
   "cell_type": "code",
   "execution_count": 1,
   "metadata": {
    "collapsed": false,
    "deletable": true,
    "editable": true
   },
   "outputs": [],
   "source": [
    "function run {\n",
    "  local cmd=$@\n",
    "  echo\n",
    "  echo \"#################################\"\n",
    "  echo $cmd\n",
    "  echo \"#################################\"\n",
    "  eval $cmd\n",
    "}\n",
    "\n",
    "test_mode=1 # Set to 1 for testing and 0 otherwise.\n",
    "example_dir=\"../../data\" # Example data.\n",
    "cpg_dir=\"$example_dir/cpg\" # CpG profiles.\n",
    "dna_dir=\"$example_dir/dna/mm10\" # DNA sequences.\n",
    "anno_dir=\"$example_dir/anno/mm10\" # Annotations of genomic contexts.\n",
    "\n",
    "data_dir=\"./data\" # DeepCpG data.\n",
    "models_dir=\"./models\" # Trained models.\n",
    "mkdir -p $models_dir\n",
    "eval_dir=\"./eval\" # Evaluation data.\n",
    "mkdir -p $eval_dir"
   ]
  },
  {
   "cell_type": "markdown",
   "metadata": {
    "deletable": true,
    "editable": true
   },
   "source": [
    "## Creating DeepCpG data files"
   ]
  },
  {
   "cell_type": "markdown",
   "metadata": {
    "deletable": true,
    "editable": true
   },
   "source": [
    "We first store the known CpG methylation states of each cell into a tab delimted file with the following columns:\n",
    "* Chromosome (without chr)\n",
    "* Position of the CpG site on the chromosome\n",
    "* Binary methylation state of the CpG sites (0=unmethylation, 1=methylated)\n",
    "\n",
    "CpG sites with a methylation rate between zero and one should be binarized by rounding. Filenames should correspond to cell names. \n",
    "\n",
    "Each position must point the cytosine residue of a CpG site (positions enumerated from 1). Otherwise `dcpg_data.py` will report warnings, e.g. if a wrong genome is used or CpG sites were not correctly aligned.\n",
    "\n",
    "For this tutorial we are using a subset of serum mouse embryonic stem cells from *Smallwood et al. (2014)*:"
   ]
  },
  {
   "cell_type": "code",
   "execution_count": 2,
   "metadata": {
    "collapsed": false,
    "deletable": true,
    "editable": true
   },
   "outputs": [
    {
     "name": "stdout",
     "output_type": "stream",
     "text": [
      "BS27_1_SER.tsv BS27_3_SER.tsv BS27_5_SER.tsv BS27_6_SER.tsv BS27_8_SER.tsv\n"
     ]
    }
   ],
   "source": [
    "ls $cpg_dir"
   ]
  },
  {
   "cell_type": "markdown",
   "metadata": {
    "deletable": true,
    "editable": true
   },
   "source": [
    "We can have a look at the methylation profile of cell 'BS27_1_SER':"
   ]
  },
  {
   "cell_type": "code",
   "execution_count": 3,
   "metadata": {
    "collapsed": false,
    "deletable": true,
    "editable": true
   },
   "outputs": [
    {
     "name": "stdout",
     "output_type": "stream",
     "text": [
      "1\t3000827\t1.0\n",
      "1\t3001007\t1.0\n",
      "1\t3001018\t1.0\n",
      "1\t3001277\t1.0\n",
      "1\t3001629\t1.0\n",
      "1\t3003226\t1.0\n",
      "1\t3003339\t1.0\n",
      "1\t3003379\t1.0\n",
      "1\t3006416\t1.0\n",
      "1\t3007580\t1.0\n"
     ]
    }
   ],
   "source": [
    "head \"$cpg_dir/BS27_1_SER.tsv\""
   ]
  },
  {
   "cell_type": "markdown",
   "metadata": {
    "deletable": true,
    "editable": true
   },
   "source": [
    "Since we are dealing with mouse cells, we are using the mm10 (GRCm38) mouse genome build:"
   ]
  },
  {
   "cell_type": "code",
   "execution_count": 4,
   "metadata": {
    "collapsed": false,
    "deletable": true,
    "editable": true
   },
   "outputs": [
    {
     "name": "stdout",
     "output_type": "stream",
     "text": [
      "Mus_musculus.GRCm38.dna.chromosome.1.fa.gz\n",
      "Mus_musculus.GRCm38.dna.chromosome.10.fa.gz\n",
      "Mus_musculus.GRCm38.dna.chromosome.11.fa.gz\n",
      "Mus_musculus.GRCm38.dna.chromosome.12.fa.gz\n",
      "Mus_musculus.GRCm38.dna.chromosome.13.fa.gz\n",
      "Mus_musculus.GRCm38.dna.chromosome.14.fa.gz\n",
      "Mus_musculus.GRCm38.dna.chromosome.15.fa.gz\n",
      "Mus_musculus.GRCm38.dna.chromosome.16.fa.gz\n",
      "Mus_musculus.GRCm38.dna.chromosome.17.fa.gz\n",
      "Mus_musculus.GRCm38.dna.chromosome.18.fa.gz\n",
      "Mus_musculus.GRCm38.dna.chromosome.19.fa.gz\n",
      "Mus_musculus.GRCm38.dna.chromosome.2.fa.gz\n",
      "Mus_musculus.GRCm38.dna.chromosome.3.fa.gz\n",
      "Mus_musculus.GRCm38.dna.chromosome.4.fa.gz\n",
      "Mus_musculus.GRCm38.dna.chromosome.5.fa.gz\n",
      "Mus_musculus.GRCm38.dna.chromosome.6.fa.gz\n",
      "Mus_musculus.GRCm38.dna.chromosome.7.fa.gz\n",
      "Mus_musculus.GRCm38.dna.chromosome.8.fa.gz\n",
      "Mus_musculus.GRCm38.dna.chromosome.9.fa.gz\n",
      "Mus_musculus.GRCm38.dna.chromosome.MT.fa.gz\n",
      "Mus_musculus.GRCm38.dna.chromosome.X.fa.gz\n",
      "Mus_musculus.GRCm38.dna.chromosome.Y.fa.gz\n"
     ]
    }
   ],
   "source": [
    "ls $dna_dir"
   ]
  },
  {
   "cell_type": "markdown",
   "metadata": {
    "deletable": true,
    "editable": true
   },
   "source": [
    "These files were downloaded by `setup.py`. Other genomes, e.g. human genome hg38, can be downloaded, for example, with the following command:\n",
    "\n",
    "```bash\n",
    "wget ftp://ftp.ensembl.org/pub/release-86/fasta/homo_sapiens/dna/Homo_sapiens.GRCh38.dna.chromosome.*.fa.gz\n",
    "```"
   ]
  },
  {
   "cell_type": "markdown",
   "metadata": {
    "deletable": true,
    "editable": true
   },
   "source": [
    "Now we can run `dcpg_data.py` to create the input data for DeepCpG. For testing purposes, we only consider a few CpG sites on chromosome 19:"
   ]
  },
  {
   "cell_type": "code",
   "execution_count": 5,
   "metadata": {
    "collapsed": false,
    "deletable": true,
    "editable": true
   },
   "outputs": [
    {
     "name": "stdout",
     "output_type": "stream",
     "text": [
      "\n",
      "#################################\n",
      "dcpg_data.py --cpg_profiles ../../data/cpg/BS27_1_SER.tsv ../../data/cpg/BS27_3_SER.tsv ../../data/cpg/BS27_5_SER.tsv ../../data/cpg/BS27_6_SER.tsv ../../data/cpg/BS27_8_SER.tsv --dna_files ../../data/dna/mm10 --out_dir ./data --cpg_wlen 50 --dna_wlen 1001 --chromo 1 13 --nb_sample_chromo 1000\n",
      "#################################\n",
      "INFO (2017-05-01 08:52:09,765): Reading CpG profiles ...\n",
      "INFO (2017-05-01 08:52:09,766): ../../data/cpg/BS27_1_SER.tsv\n",
      "INFO (2017-05-01 08:52:17,837): ../../data/cpg/BS27_3_SER.tsv\n",
      "INFO (2017-05-01 08:52:24,117): ../../data/cpg/BS27_5_SER.tsv\n",
      "INFO (2017-05-01 08:52:31,245): ../../data/cpg/BS27_6_SER.tsv\n",
      "INFO (2017-05-01 08:52:36,752): ../../data/cpg/BS27_8_SER.tsv\n",
      "INFO (2017-05-01 08:52:42,487): 2000 samples\n",
      "INFO (2017-05-01 08:52:42,488): --------------------------------------------------------------------------------\n",
      "INFO (2017-05-01 08:52:42,488): Chromosome 1 ...\n",
      "INFO (2017-05-01 08:52:42,504): 1000 / 1000 (100.0%) sites matched minimum coverage filter\n",
      "INFO (2017-05-01 08:52:46,440): Chunk \t1 / 1\n",
      "INFO (2017-05-01 08:52:46,451): Extracting DNA sequence windows ...\n",
      "INFO (2017-05-01 08:52:46,865): Extracting CpG neighbors ...\n",
      "INFO (2017-05-01 08:52:46,986): --------------------------------------------------------------------------------\n",
      "INFO (2017-05-01 08:52:46,986): Chromosome 13 ...\n",
      "INFO (2017-05-01 08:52:47,002): 1000 / 1000 (100.0%) sites matched minimum coverage filter\n",
      "INFO (2017-05-01 08:52:49,241): Chunk \t1 / 1\n",
      "INFO (2017-05-01 08:52:49,247): Extracting DNA sequence windows ...\n",
      "INFO (2017-05-01 08:52:49,528): Extracting CpG neighbors ...\n",
      "INFO (2017-05-01 08:52:49,641): Done!\n"
     ]
    }
   ],
   "source": [
    "cmd=\"dcpg_data.py\n",
    "    --cpg_profiles $cpg_dir/*.tsv\n",
    "    --dna_files $dna_dir\n",
    "    --out_dir $data_dir\n",
    "    --cpg_wlen 50\n",
    "    --dna_wlen 1001\n",
    "\"\n",
    "if [[ $test_mode -eq 1 ]]; then\n",
    "    cmd=\"$cmd\n",
    "        --chromo 1 13\n",
    "        --nb_sample_chromo 1000\n",
    "        \"\n",
    "fi\n",
    "run $cmd"
   ]
  },
  {
   "cell_type": "markdown",
   "metadata": {
    "deletable": true,
    "editable": true
   },
   "source": [
    "For each CpG site that is observed in at least one cell, this command extracts the 50 neighboring CpG sites (25 to the left and 25 to the right), and the 1001 bp long DNA sequence window centered on the CpG site. In test mode, only 1000 CpG sites will be randomly sampled from chromosome 1 and 13. The command creates multiple HDF5 files with name `cX_FROM_TO.h5`, where `X` is the chromosome, and `FROM` and `TO` the index of CpG sites stored in the file:"
   ]
  },
  {
   "cell_type": "code",
   "execution_count": 6,
   "metadata": {
    "collapsed": false,
    "deletable": true,
    "editable": true
   },
   "outputs": [
    {
     "name": "stdout",
     "output_type": "stream",
     "text": [
      "c13_000000-001000.h5 c1_000000-001000.h5\n"
     ]
    }
   ],
   "source": [
    "ls $data_dir"
   ]
  },
  {
   "cell_type": "markdown",
   "metadata": {
    "deletable": true,
    "editable": true
   },
   "source": [
    "## Training models"
   ]
  },
  {
   "cell_type": "markdown",
   "metadata": {
    "deletable": true,
    "editable": true
   },
   "source": [
    "We can now train models on the created data. First, we need to split the data into a training, validation set, and test set. The training set should contain at least 3 million CpG sites. We will use chromosome 1, 3, 5, 7, and 19 as training set, and chromosome 13, 14, 15, 16, and 17 as validation set:"
   ]
  },
  {
   "cell_type": "code",
   "execution_count": 7,
   "metadata": {
    "collapsed": false,
    "deletable": true,
    "editable": true
   },
   "outputs": [],
   "source": [
    "function get_data_files {\n",
    "  local data_dir=$1\n",
    "  shift\n",
    "  local chromos=$@\n",
    "\n",
    "  files=\"\"\n",
    "  for chromo in $chromos; do\n",
    "    files=\"$files $(ls $data_dir/c${chromo}_*.h5 2> /dev/null)\"\n",
    "  done\n",
    "  echo $files\n",
    "}\n",
    "\n",
    "train_files=$(get_data_files $data_dir 1 3 5 7 9)\n",
    "val_files=$(get_data_files $data_dir 13 14 15 16 17)"
   ]
  },
  {
   "cell_type": "code",
   "execution_count": 8,
   "metadata": {
    "collapsed": false,
    "deletable": true,
    "editable": true
   },
   "outputs": [
    {
     "name": "stdout",
     "output_type": "stream",
     "text": [
      "./data/c1_000000-001000.h5\n"
     ]
    }
   ],
   "source": [
    "echo $train_files"
   ]
  },
  {
   "cell_type": "code",
   "execution_count": 9,
   "metadata": {
    "collapsed": false,
    "deletable": true,
    "editable": true
   },
   "outputs": [
    {
     "name": "stdout",
     "output_type": "stream",
     "text": [
      "./data/c13_000000-001000.h5\n"
     ]
    }
   ],
   "source": [
    "echo $val_files"
   ]
  },
  {
   "cell_type": "markdown",
   "metadata": {
    "deletable": true,
    "editable": true
   },
   "source": [
    "We can count the number of CpG sites in the training set using `dcpg_data_stats.py`:"
   ]
  },
  {
   "cell_type": "code",
   "execution_count": 10,
   "metadata": {
    "collapsed": false,
    "deletable": true,
    "editable": true
   },
   "outputs": [
    {
     "name": "stdout",
     "output_type": "stream",
     "text": [
      "\n",
      "#################################\n",
      "dcpg_data_stats.py ./data/c1_000000-001000.h5\n",
      "#################################\n",
      "           output  nb_tot  nb_obs  frac_obs      mean       var\n",
      "0  cpg/BS27_1_SER    1000     187     0.187  0.775401  0.174154\n",
      "1  cpg/BS27_3_SER    1000     208     0.208  0.711538  0.205251\n",
      "2  cpg/BS27_5_SER    1000     200     0.200  0.690000  0.213900\n",
      "3  cpg/BS27_6_SER    1000     195     0.195  0.666667  0.222222\n",
      "4  cpg/BS27_8_SER    1000     210     0.210  0.776190  0.173719\n"
     ]
    }
   ],
   "source": [
    "cmd=\"dcpg_data_stats.py $train_files\"\n",
    "run $cmd"
   ]
  },
  {
   "cell_type": "markdown",
   "metadata": {
    "deletable": true,
    "editable": true
   },
   "source": [
    "For each output cell, `nb_tot` is the total number of CpG sites, `nb_obs` the number of CpG sites with known methylation state, `frac_obs` the ratio between `nb_obs` and `nb_tot`, `mean` the mean methylation rate, and `var` the variance of the methylation rate.\n",
    "\n",
    "We can now train our model. DeepCpG consists of a *DNA*, *CpG*, and *Joint model*, which can be trained either jointly or separately. We will train them jointly, starting with the CpG model:"
   ]
  },
  {
   "cell_type": "code",
   "execution_count": 11,
   "metadata": {
    "collapsed": false,
    "deletable": true,
    "editable": true
   },
   "outputs": [
    {
     "name": "stdout",
     "output_type": "stream",
     "text": [
      "\n",
      "#################################\n",
      "dcpg_train.py ./data/c1_000000-001000.h5 --val_files ./data/c13_000000-001000.h5 --cpg_model RnnL1 --out_dir ./models/cpg --nb_epoch 1 --nb_train_sample 1000 --nb_val_sample 1000\n",
      "#################################\n",
      "Using TensorFlow backend.\n",
      "INFO (2017-05-01 08:52:58,238): Building model ...\n",
      "Replicate names:\n",
      "BS27_1_SER, BS27_3_SER, BS27_5_SER, BS27_6_SER, BS27_8_SER\n",
      "\n",
      "INFO (2017-05-01 08:52:58,243): Building CpG model ...\n",
      "____________________________________________________________________________________________________\n",
      "Layer (type)                     Output Shape          Param #     Connected to                     \n",
      "====================================================================================================\n",
      "cpg/state (InputLayer)           (None, 5, 50)         0                                            \n",
      "____________________________________________________________________________________________________\n",
      "cpg/dist (InputLayer)            (None, 5, 50)         0                                            \n",
      "____________________________________________________________________________________________________\n",
      "cpg/concatenate_1 (Concatenate)  (None, 5, 100)        0           cpg/state[0][0]                  \n",
      "                                                                   cpg/dist[0][0]                   \n",
      "____________________________________________________________________________________________________\n",
      "cpg/time_distributed_1 (TimeDist (None, 5, 256)        25856       cpg/concatenate_1[0][0]          \n",
      "____________________________________________________________________________________________________\n",
      "cpg/bidirectional_1 (Bidirection (None, 512)           787968      cpg/time_distributed_1[0][0]     \n",
      "____________________________________________________________________________________________________\n",
      "cpg/dropout_1 (Dropout)          (None, 512)           0           cpg/bidirectional_1[0][0]        \n",
      "____________________________________________________________________________________________________\n",
      "cpg/BS27_1_SER (Dense)           (None, 1)             513         cpg/dropout_1[0][0]              \n",
      "____________________________________________________________________________________________________\n",
      "cpg/BS27_3_SER (Dense)           (None, 1)             513         cpg/dropout_1[0][0]              \n",
      "____________________________________________________________________________________________________\n",
      "cpg/BS27_5_SER (Dense)           (None, 1)             513         cpg/dropout_1[0][0]              \n",
      "____________________________________________________________________________________________________\n",
      "cpg/BS27_6_SER (Dense)           (None, 1)             513         cpg/dropout_1[0][0]              \n",
      "____________________________________________________________________________________________________\n",
      "cpg/BS27_8_SER (Dense)           (None, 1)             513         cpg/dropout_1[0][0]              \n",
      "====================================================================================================\n",
      "Total params: 816,389\n",
      "Trainable params: 816,389\n",
      "Non-trainable params: 0\n",
      "____________________________________________________________________________________________________\n",
      "INFO (2017-05-01 08:52:59,269): Computing output statistics ...\n",
      "Output statistics:\n",
      "          name | nb_tot | nb_obs | frac_obs | mean |  var\n",
      "---------------------------------------------------------\n",
      "cpg/BS27_1_SER |   1000 |    187 |     0.19 | 0.78 | 0.17\n",
      "cpg/BS27_3_SER |   1000 |    208 |     0.21 | 0.71 | 0.21\n",
      "cpg/BS27_5_SER |   1000 |    200 |     0.20 | 0.69 | 0.21\n",
      "cpg/BS27_6_SER |   1000 |    195 |     0.20 | 0.67 | 0.22\n",
      "cpg/BS27_8_SER |   1000 |    210 |     0.21 | 0.78 | 0.17\n",
      "\n",
      "Class weights:\n",
      "cpg/BS27_1_SER | cpg/BS27_3_SER | cpg/BS27_5_SER | cpg/BS27_6_SER | cpg/BS27_8_SER\n",
      "----------------------------------------------------------------------------------\n",
      "        0=0.78 |         0=0.71 |         0=0.69 |         0=0.67 |         0=0.78\n",
      "        1=0.22 |         1=0.29 |         1=0.31 |         1=0.33 |         1=0.22\n",
      "\n",
      "INFO (2017-05-01 08:52:59,846): Loading data ...\n",
      "INFO (2017-05-01 08:52:59,850): Initializing callbacks ...\n",
      "INFO (2017-05-01 08:52:59,851): Training model ...\n",
      "\n",
      "Training samples: 1000\n",
      "Validation samples: 1000\n",
      "Epochs: 1\n",
      "Learning rate: 0.0001\n",
      "====================================================================================================\n",
      "Epoch 1/1\n",
      "====================================================================================================\n",
      "done (%) | time |   loss |    acc | cpg/BS27_1_SER_loss | cpg/BS27_3_SER_loss | cpg/BS27_5_SER_loss | cpg/BS27_6_SER_loss | cpg/BS27_8_SER_loss | cpg/BS27_1_SER_acc | cpg/BS27_3_SER_acc | cpg/BS27_5_SER_acc | cpg/BS27_6_SER_acc | cpg/BS27_8_SER_acc\n",
      "--------------------------------------------------------------------------------------------------------------------------------------------------------------------------------------------------------------------------------------------------------\n",
      "    14.3 |  0.0 | 1.2364 | 0.5528 |              0.0386 |              0.0485 |              0.0664 |              0.0541 |              0.0544 |             0.8261 |             0.5600 |             0.2143 |             0.3636 |             0.8000\n",
      "    28.6 |  0.0 | 1.2418 | 0.5843 |              0.0484 |              0.0553 |              0.0627 |              0.0649 |              0.0371 |             0.7464 |             0.6371 |             0.2946 |             0.3431 |             0.9000\n",
      "    42.9 |  0.0 | 1.2410 | 0.6045 |              0.0427 |              0.0561 |              0.0618 |              0.0627 |              0.0453 |             0.8006 |             0.7006 |             0.3431 |             0.3399 |             0.8381\n",
      "    57.1 |  0.0 | 1.2475 | 0.6089 |              0.0396 |              0.0605 |              0.0628 |              0.0641 |              0.0491 |             0.7949 |             0.6773 |             0.3953 |             0.3753 |             0.8016\n",
      "    71.4 |  0.0 | 1.2446 | 0.6232 |              0.0408 |              0.0557 |              0.0657 |              0.0635 |              0.0483 |             0.7838 |             0.6947 |             0.4397 |             0.3848 |             0.8127\n",
      "    85.7 |  0.0 | 1.2446 | 0.6301 |              0.0412 |              0.0569 |              0.0610 |              0.0636 |              0.0523 |             0.7473 |             0.7067 |             0.4939 |             0.4104 |             0.7919\n",
      "   100.0 |  0.0 | 1.2490 | 0.6192 |              0.0470 |              0.0608 |              0.0608 |              0.0613 |              0.0505 |             0.6925 |             0.6841 |             0.5222 |             0.4232 |             0.7740\n",
      "Epoch 00000: val_loss improved from inf to 1.65164, saving model to ./models/cpg/model_weights_val.h5\n",
      "\n",
      " split |   loss |    acc | cpg/BS27_1_SER_loss | cpg/BS27_3_SER_loss | cpg/BS27_5_SER_loss | cpg/BS27_6_SER_loss | cpg/BS27_8_SER_loss | cpg/BS27_1_SER_acc | cpg/BS27_3_SER_acc | cpg/BS27_5_SER_acc | cpg/BS27_6_SER_acc | cpg/BS27_8_SER_acc\n",
      "-----------------------------------------------------------------------------------------------------------------------------------------------------------------------------------------------------------------------------------------------\n",
      " train | 1.2490 | 0.6192 |              0.0470 |              0.0608 |              0.0608 |              0.0613 |              0.0505 |             0.6925 |             0.6841 |             0.5222 |             0.4232 |             0.7740\n",
      "   val | 1.6516 | 0.5363 |              0.1492 |              0.1269 |              0.1323 |              0.1393 |              0.1428 |             0.3452 |             0.7168 |             0.6783 |             0.4882 |             0.4533\n",
      "====================================================================================================\n",
      "\n",
      "Training set performance:\n",
      "  loss |    acc | cpg/BS27_1_SER_loss | cpg/BS27_3_SER_loss | cpg/BS27_5_SER_loss | cpg/BS27_6_SER_loss | cpg/BS27_8_SER_loss | cpg/BS27_1_SER_acc | cpg/BS27_3_SER_acc | cpg/BS27_5_SER_acc | cpg/BS27_6_SER_acc | cpg/BS27_8_SER_acc\n",
      "--------------------------------------------------------------------------------------------------------------------------------------------------------------------------------------------------------------------------------------\n",
      "1.2490 | 0.6192 |              0.0470 |              0.0608 |              0.0608 |              0.0613 |              0.0505 |             0.6925 |             0.6841 |             0.5222 |             0.4232 |             0.7740\n",
      "\n",
      "Validation set performance:\n",
      "  loss |    acc | cpg/BS27_1_SER_loss | cpg/BS27_3_SER_loss | cpg/BS27_5_SER_loss | cpg/BS27_6_SER_loss | cpg/BS27_8_SER_loss | cpg/BS27_1_SER_acc | cpg/BS27_3_SER_acc | cpg/BS27_5_SER_acc | cpg/BS27_6_SER_acc | cpg/BS27_8_SER_acc\n",
      "--------------------------------------------------------------------------------------------------------------------------------------------------------------------------------------------------------------------------------------\n",
      "1.6516 | 0.5363 |              0.1492 |              0.1269 |              0.1323 |              0.1393 |              0.1428 |             0.3452 |             0.7168 |             0.6783 |             0.4882 |             0.4533\n",
      "INFO (2017-05-01 08:53:15,222): Done!\n"
     ]
    }
   ],
   "source": [
    "cmd=\"dcpg_train.py\n",
    "    $train_files\n",
    "    --val_files $val_files\n",
    "    --cpg_model RnnL1\n",
    "    --out_dir $models_dir/cpg\n",
    "    \"\n",
    "if [[ $test_mode -eq 1 ]]; then\n",
    "    cmd=\"$cmd\n",
    "        --nb_epoch 1\n",
    "        --nb_train_sample 1000\n",
    "        --nb_val_sample 1000\n",
    "    \"\n",
    "else\n",
    "    cmd=\"$cmd\n",
    "        --nb_epoch 30\n",
    "        \"\n",
    "fi\n",
    "run $cmd"
   ]
  },
  {
   "cell_type": "markdown",
   "metadata": {
    "deletable": true,
    "editable": true
   },
   "source": [
    "`--RnnL1` specifies the architecture of the CpG model and `--nb_epoch` the number of training epochs. These are hyper-parameters, which can be adapted depending on the size of the training set and model complexitiy. For testing purposes, we decrease the number of samples using `--nb_train_sample` and `--nb_val_sample`."
   ]
  },
  {
   "cell_type": "markdown",
   "metadata": {
    "deletable": true,
    "editable": true
   },
   "source": [
    "The CpG model is often times already quite accurate on its own. However, we can further boost the performance by also training a DNA model, which leverage the DNA sequence:"
   ]
  },
  {
   "cell_type": "code",
   "execution_count": 12,
   "metadata": {
    "collapsed": false,
    "deletable": true,
    "editable": true
   },
   "outputs": [
    {
     "name": "stdout",
     "output_type": "stream",
     "text": [
      "\n",
      "#################################\n",
      "dcpg_train.py ./data/c1_000000-001000.h5 --val_files ./data/c13_000000-001000.h5 --dna_model CnnL2h128 --out_dir ./models/dna --nb_epoch 1 --nb_train_sample 1000 --nb_val_sample 1000\n",
      "#################################\n",
      "Using TensorFlow backend.\n",
      "INFO (2017-05-01 08:53:19,619): Building model ...\n",
      "INFO (2017-05-01 08:53:19,622): Building DNA model ...\n",
      "____________________________________________________________________________________________________\n",
      "Layer (type)                     Output Shape          Param #     Connected to                     \n",
      "====================================================================================================\n",
      "dna (InputLayer)                 (None, 1001, 4)       0                                            \n",
      "____________________________________________________________________________________________________\n",
      "dna/conv1d_1 (Conv1D)            (None, 991, 128)      5760        dna[0][0]                        \n",
      "____________________________________________________________________________________________________\n",
      "dna/activation_1 (Activation)    (None, 991, 128)      0           dna/conv1d_1[0][0]               \n",
      "____________________________________________________________________________________________________\n",
      "dna/max_pooling1d_1 (MaxPooling1 (None, 247, 128)      0           dna/activation_1[0][0]           \n",
      "____________________________________________________________________________________________________\n",
      "dna/conv1d_2 (Conv1D)            (None, 245, 256)      98560       dna/max_pooling1d_1[0][0]        \n",
      "____________________________________________________________________________________________________\n",
      "dna/activation_2 (Activation)    (None, 245, 256)      0           dna/conv1d_2[0][0]               \n",
      "____________________________________________________________________________________________________\n",
      "dna/max_pooling1d_2 (MaxPooling1 (None, 122, 256)      0           dna/activation_2[0][0]           \n",
      "____________________________________________________________________________________________________\n",
      "dna/flatten_1 (Flatten)          (None, 31232)         0           dna/max_pooling1d_2[0][0]        \n",
      "____________________________________________________________________________________________________\n",
      "dna/dense_1 (Dense)              (None, 128)           3997824     dna/flatten_1[0][0]              \n",
      "____________________________________________________________________________________________________\n",
      "dna/activation_3 (Activation)    (None, 128)           0           dna/dense_1[0][0]                \n",
      "____________________________________________________________________________________________________\n",
      "dna/dropout_1 (Dropout)          (None, 128)           0           dna/activation_3[0][0]           \n",
      "____________________________________________________________________________________________________\n",
      "cpg/BS27_1_SER (Dense)           (None, 1)             129         dna/dropout_1[0][0]              \n",
      "____________________________________________________________________________________________________\n",
      "cpg/BS27_3_SER (Dense)           (None, 1)             129         dna/dropout_1[0][0]              \n",
      "____________________________________________________________________________________________________\n",
      "cpg/BS27_5_SER (Dense)           (None, 1)             129         dna/dropout_1[0][0]              \n",
      "____________________________________________________________________________________________________\n",
      "cpg/BS27_6_SER (Dense)           (None, 1)             129         dna/dropout_1[0][0]              \n",
      "____________________________________________________________________________________________________\n",
      "cpg/BS27_8_SER (Dense)           (None, 1)             129         dna/dropout_1[0][0]              \n",
      "====================================================================================================\n",
      "Total params: 4,102,789\n",
      "Trainable params: 4,102,789\n",
      "Non-trainable params: 0\n",
      "____________________________________________________________________________________________________\n",
      "INFO (2017-05-01 08:53:19,826): Computing output statistics ...\n",
      "Output statistics:\n",
      "          name | nb_tot | nb_obs | frac_obs | mean |  var\n",
      "---------------------------------------------------------\n",
      "cpg/BS27_1_SER |   1000 |    187 |     0.19 | 0.78 | 0.17\n",
      "cpg/BS27_3_SER |   1000 |    208 |     0.21 | 0.71 | 0.21\n",
      "cpg/BS27_5_SER |   1000 |    200 |     0.20 | 0.69 | 0.21\n",
      "cpg/BS27_6_SER |   1000 |    195 |     0.20 | 0.67 | 0.22\n",
      "cpg/BS27_8_SER |   1000 |    210 |     0.21 | 0.78 | 0.17\n",
      "\n",
      "Class weights:\n",
      "cpg/BS27_1_SER | cpg/BS27_3_SER | cpg/BS27_5_SER | cpg/BS27_6_SER | cpg/BS27_8_SER\n",
      "----------------------------------------------------------------------------------\n",
      "        0=0.78 |         0=0.71 |         0=0.69 |         0=0.67 |         0=0.78\n",
      "        1=0.22 |         1=0.29 |         1=0.31 |         1=0.33 |         1=0.22\n",
      "\n",
      "INFO (2017-05-01 08:53:20,329): Loading data ...\n",
      "INFO (2017-05-01 08:53:20,333): Initializing callbacks ...\n",
      "INFO (2017-05-01 08:53:20,333): Training model ...\n",
      "\n",
      "Training samples: 1000\n",
      "Validation samples: 1000\n",
      "Epochs: 1\n",
      "Learning rate: 0.0001\n",
      "====================================================================================================\n",
      "Epoch 1/1\n",
      "====================================================================================================\n",
      "done (%) | time |   loss |    acc | cpg/BS27_1_SER_loss | cpg/BS27_3_SER_loss | cpg/BS27_5_SER_loss | cpg/BS27_6_SER_loss | cpg/BS27_8_SER_loss | cpg/BS27_1_SER_acc | cpg/BS27_3_SER_acc | cpg/BS27_5_SER_acc | cpg/BS27_6_SER_acc | cpg/BS27_8_SER_acc\n",
      "--------------------------------------------------------------------------------------------------------------------------------------------------------------------------------------------------------------------------------------------------------\n",
      "    14.3 |  0.0 | 3.0916 | 0.6584 |              0.0308 |              0.0612 |              0.0639 |              0.0523 |              0.0525 |             0.8333 |             0.7586 |             0.2963 |             0.5652 |             0.8387\n",
      "    28.6 |  0.1 | 3.0871 | 0.6263 |              0.0399 |              0.0593 |              0.0576 |              0.0641 |              0.0558 |             0.7645 |             0.6520 |             0.3072 |             0.6264 |             0.7814\n",
      "    42.9 |  0.1 | 3.0707 | 0.6305 |              0.0344 |              0.0602 |              0.0651 |              0.0608 |              0.0602 |             0.8234 |             0.6347 |             0.3361 |             0.6080 |             0.7501\n",
      "    57.1 |  0.1 | 3.0503 | 0.6202 |              0.0403 |              0.0597 |              0.0619 |              0.0609 |              0.0577 |             0.7961 |             0.6612 |             0.3021 |             0.6019 |             0.7397\n",
      "    71.4 |  0.1 | 3.0279 | 0.6112 |              0.0457 |              0.0608 |              0.0580 |              0.0618 |              0.0520 |             0.7823 |             0.5890 |             0.3084 |             0.5935 |             0.7826\n",
      "    85.7 |  0.1 | 3.0046 | 0.6157 |              0.0449 |              0.0629 |              0.0597 |              0.0590 |              0.0486 |             0.7908 |             0.5241 |             0.3310 |             0.6295 |             0.8030\n",
      "   100.0 |  0.2 | 2.9839 | 0.6071 |              0.0461 |              0.0608 |              0.0576 |              0.0588 |              0.0509 |             0.7912 |             0.4817 |             0.3246 |             0.6481 |             0.7897\n",
      "Epoch 00000: val_loss improved from inf to 3.24499, saving model to ./models/dna/model_weights_val.h5\n",
      "\n",
      " split |   loss |    acc | cpg/BS27_1_SER_loss | cpg/BS27_3_SER_loss | cpg/BS27_5_SER_loss | cpg/BS27_6_SER_loss | cpg/BS27_8_SER_loss | cpg/BS27_1_SER_acc | cpg/BS27_3_SER_acc | cpg/BS27_5_SER_acc | cpg/BS27_6_SER_acc | cpg/BS27_8_SER_acc\n",
      "-----------------------------------------------------------------------------------------------------------------------------------------------------------------------------------------------------------------------------------------------\n",
      " train | 2.9839 | 0.6071 |              0.0461 |              0.0608 |              0.0576 |              0.0588 |              0.0509 |             0.7912 |             0.4817 |             0.3246 |             0.6481 |             0.7897\n",
      "   val | 3.2450 | 0.5766 |              0.1441 |              0.1324 |              0.1371 |              0.1383 |              0.1418 |             0.8003 |             0.3152 |             0.3125 |             0.6728 |             0.7822\n",
      "====================================================================================================\n",
      "\n",
      "Training set performance:\n",
      "  loss |    acc | cpg/BS27_1_SER_loss | cpg/BS27_3_SER_loss | cpg/BS27_5_SER_loss | cpg/BS27_6_SER_loss | cpg/BS27_8_SER_loss | cpg/BS27_1_SER_acc | cpg/BS27_3_SER_acc | cpg/BS27_5_SER_acc | cpg/BS27_6_SER_acc | cpg/BS27_8_SER_acc\n",
      "--------------------------------------------------------------------------------------------------------------------------------------------------------------------------------------------------------------------------------------\n",
      "2.9839 | 0.6071 |              0.0461 |              0.0608 |              0.0576 |              0.0588 |              0.0509 |             0.7912 |             0.4817 |             0.3246 |             0.6481 |             0.7897\n",
      "\n",
      "Validation set performance:\n",
      "  loss |    acc | cpg/BS27_1_SER_loss | cpg/BS27_3_SER_loss | cpg/BS27_5_SER_loss | cpg/BS27_6_SER_loss | cpg/BS27_8_SER_loss | cpg/BS27_1_SER_acc | cpg/BS27_3_SER_acc | cpg/BS27_5_SER_acc | cpg/BS27_6_SER_acc | cpg/BS27_8_SER_acc\n",
      "--------------------------------------------------------------------------------------------------------------------------------------------------------------------------------------------------------------------------------------\n",
      "3.2450 | 0.5766 |              0.1441 |              0.1324 |              0.1371 |              0.1383 |              0.1418 |             0.8003 |             0.3152 |             0.3125 |             0.6728 |             0.7822\n",
      "INFO (2017-05-01 08:53:39,580): Done!\n"
     ]
    }
   ],
   "source": [
    "cmd=\"dcpg_train.py\n",
    "    $train_files\n",
    "    --val_files $val_files\n",
    "    --dna_model CnnL2h128\n",
    "    --out_dir $models_dir/dna\n",
    "    \"\n",
    "if [[ $test_mode -eq 1 ]]; then\n",
    "    cmd=\"$cmd\n",
    "        --nb_epoch 1\n",
    "        --nb_train_sample 1000\n",
    "        --nb_val_sample 1000\n",
    "    \"\n",
    "else\n",
    "    cmd=\"$cmd\n",
    "        --nb_epoch 30\n",
    "        \"\n",
    "fi\n",
    "run $cmd"
   ]
  },
  {
   "cell_type": "markdown",
   "metadata": {
    "deletable": true,
    "editable": true
   },
   "source": [
    "Finally, we combine both models by training a Joint model:"
   ]
  },
  {
   "cell_type": "code",
   "execution_count": 13,
   "metadata": {
    "collapsed": false,
    "deletable": true,
    "editable": true
   },
   "outputs": [
    {
     "name": "stdout",
     "output_type": "stream",
     "text": [
      "\n",
      "#################################\n",
      "dcpg_train.py ./data/c1_000000-001000.h5 --val_files ./data/c13_000000-001000.h5 --dna_model ./models/dna --cpg_model ./models/cpg --joint_model JointL2h512 --train_models joint --out_dir ./models/joint --nb_epoch 1 --nb_train_sample 1000 --nb_val_sample 1000\n",
      "#################################\n",
      "Using TensorFlow backend.\n",
      "INFO (2017-05-01 08:53:42,012): Building model ...\n",
      "INFO (2017-05-01 08:53:42,014): Loading existing DNA model ...\n",
      "INFO (2017-05-01 08:53:42,014): Using model files ./models/dna/model.json ./models/dna/model_weights_val.h5\n",
      "Replicate names:\n",
      "BS27_1_SER, BS27_3_SER, BS27_5_SER, BS27_6_SER, BS27_8_SER\n",
      "\n",
      "INFO (2017-05-01 08:53:42,441): Loading existing CpG model ...\n",
      "INFO (2017-05-01 08:53:42,441): Using model files ./models/cpg/model.json ./models/cpg/model_weights_val.h5\n",
      "INFO (2017-05-01 08:53:43,620): Joining models ...\n",
      "____________________________________________________________________________________________________\n",
      "Layer (type)                     Output Shape          Param #     Connected to                     \n",
      "====================================================================================================\n",
      "dna (InputLayer)                 (None, 1001, 4)       0                                            \n",
      "____________________________________________________________________________________________________\n",
      "dna/conv1d_1 (Conv1D)            (None, 991, 128)      5760        dna[0][0]                        \n",
      "____________________________________________________________________________________________________\n",
      "dna/activation_1 (Activation)    (None, 991, 128)      0           dna/conv1d_1[0][0]               \n",
      "____________________________________________________________________________________________________\n",
      "dna/max_pooling1d_1 (MaxPooling1 (None, 247, 128)      0           dna/activation_1[0][0]           \n",
      "____________________________________________________________________________________________________\n",
      "dna/conv1d_2 (Conv1D)            (None, 245, 256)      98560       dna/max_pooling1d_1[0][0]        \n",
      "____________________________________________________________________________________________________\n",
      "dna/activation_2 (Activation)    (None, 245, 256)      0           dna/conv1d_2[0][0]               \n",
      "____________________________________________________________________________________________________\n",
      "dna/max_pooling1d_2 (MaxPooling1 (None, 122, 256)      0           dna/activation_2[0][0]           \n",
      "____________________________________________________________________________________________________\n",
      "cpg/state (InputLayer)           (None, 5, 50)         0                                            \n",
      "____________________________________________________________________________________________________\n",
      "cpg/dist (InputLayer)            (None, 5, 50)         0                                            \n",
      "____________________________________________________________________________________________________\n",
      "dna/flatten_1 (Flatten)          (None, 31232)         0           dna/max_pooling1d_2[0][0]        \n",
      "____________________________________________________________________________________________________\n",
      "cpg/concatenate_1 (Concatenate)  (None, 5, 100)        0           cpg/state[0][0]                  \n",
      "                                                                   cpg/dist[0][0]                   \n",
      "____________________________________________________________________________________________________\n",
      "dna/dense_1 (Dense)              (None, 128)           3997824     dna/flatten_1[0][0]              \n",
      "____________________________________________________________________________________________________\n",
      "cpg/time_distributed_1 (TimeDist (None, 5, 256)        25856       cpg/concatenate_1[0][0]          \n",
      "____________________________________________________________________________________________________\n",
      "dna/activation_3 (Activation)    (None, 128)           0           dna/dense_1[0][0]                \n",
      "____________________________________________________________________________________________________\n",
      "cpg/bidirectional_1 (Bidirection (None, 512)           787968      cpg/time_distributed_1[0][0]     \n",
      "____________________________________________________________________________________________________\n",
      "dna/dropout_1 (Dropout)          (None, 128)           0           dna/activation_3[0][0]           \n",
      "____________________________________________________________________________________________________\n",
      "cpg/dropout_1 (Dropout)          (None, 512)           0           cpg/bidirectional_1[0][0]        \n",
      "____________________________________________________________________________________________________\n",
      "concatenate_1 (Concatenate)      (None, 640)           0           dna/dropout_1[0][0]              \n",
      "                                                                   cpg/dropout_1[0][0]              \n",
      "____________________________________________________________________________________________________\n",
      "joint/dense_1 (Dense)            (None, 512)           328192      concatenate_1[0][0]              \n",
      "____________________________________________________________________________________________________\n",
      "joint/activation_1 (Activation)  (None, 512)           0           joint/dense_1[0][0]              \n",
      "____________________________________________________________________________________________________\n",
      "joint/dropout_1 (Dropout)        (None, 512)           0           joint/activation_1[0][0]         \n",
      "____________________________________________________________________________________________________\n",
      "joint/dense_2 (Dense)            (None, 512)           262656      joint/dropout_1[0][0]            \n",
      "____________________________________________________________________________________________________\n",
      "joint/activation_2 (Activation)  (None, 512)           0           joint/dense_2[0][0]              \n",
      "____________________________________________________________________________________________________\n",
      "joint/dropout_2 (Dropout)        (None, 512)           0           joint/activation_2[0][0]         \n",
      "____________________________________________________________________________________________________\n",
      "cpg/BS27_1_SER (Dense)           (None, 1)             513         joint/dropout_2[0][0]            \n",
      "____________________________________________________________________________________________________\n",
      "cpg/BS27_3_SER (Dense)           (None, 1)             513         joint/dropout_2[0][0]            \n",
      "____________________________________________________________________________________________________\n",
      "cpg/BS27_5_SER (Dense)           (None, 1)             513         joint/dropout_2[0][0]            \n",
      "____________________________________________________________________________________________________\n",
      "cpg/BS27_6_SER (Dense)           (None, 1)             513         joint/dropout_2[0][0]            \n",
      "____________________________________________________________________________________________________\n",
      "cpg/BS27_8_SER (Dense)           (None, 1)             513         joint/dropout_2[0][0]            \n",
      "====================================================================================================\n",
      "Total params: 5,509,381\n",
      "Trainable params: 5,509,381\n",
      "Non-trainable params: 0\n",
      "____________________________________________________________________________________________________\n",
      "Layer trainability:\n",
      "                 layer | trainable\n",
      "----------------------------------\n",
      "          dna/conv1d_1 |     False\n",
      "      dna/activation_1 |     False\n",
      "   dna/max_pooling1d_1 |     False\n",
      "          dna/conv1d_2 |     False\n",
      "      dna/activation_2 |     False\n",
      "   dna/max_pooling1d_2 |     False\n",
      "         dna/flatten_1 |     False\n",
      "     cpg/concatenate_1 |     False\n",
      "           dna/dense_1 |     False\n",
      "cpg/time_distributed_1 |     False\n",
      "      dna/activation_3 |     False\n",
      "   cpg/bidirectional_1 |     False\n",
      "         dna/dropout_1 |     False\n",
      "         cpg/dropout_1 |     False\n",
      "         concatenate_1 |     False\n",
      "         joint/dense_1 |      True\n",
      "    joint/activation_1 |      True\n",
      "       joint/dropout_1 |      True\n",
      "         joint/dense_2 |      True\n",
      "    joint/activation_2 |      True\n",
      "       joint/dropout_2 |      True\n",
      "\n",
      "INFO (2017-05-01 08:53:43,789): Computing output statistics ...\n",
      "Output statistics:\n",
      "          name | nb_tot | nb_obs | frac_obs | mean |  var\n",
      "---------------------------------------------------------\n",
      "cpg/BS27_1_SER |   1000 |    187 |     0.19 | 0.78 | 0.17\n",
      "cpg/BS27_3_SER |   1000 |    208 |     0.21 | 0.71 | 0.21\n",
      "cpg/BS27_5_SER |   1000 |    200 |     0.20 | 0.69 | 0.21\n",
      "cpg/BS27_6_SER |   1000 |    195 |     0.20 | 0.67 | 0.22\n",
      "cpg/BS27_8_SER |   1000 |    210 |     0.21 | 0.78 | 0.17\n",
      "\n",
      "Class weights:\n",
      "cpg/BS27_1_SER | cpg/BS27_3_SER | cpg/BS27_5_SER | cpg/BS27_6_SER | cpg/BS27_8_SER\n",
      "----------------------------------------------------------------------------------\n",
      "        0=0.78 |         0=0.71 |         0=0.69 |         0=0.67 |         0=0.78\n",
      "        1=0.22 |         1=0.29 |         1=0.31 |         1=0.33 |         1=0.22\n",
      "\n",
      "INFO (2017-05-01 08:53:44,352): Loading data ...\n",
      "INFO (2017-05-01 08:53:44,354): Initializing callbacks ...\n",
      "INFO (2017-05-01 08:53:44,355): Training model ...\n",
      "\n",
      "Training samples: 1000\n",
      "Validation samples: 1000\n",
      "Epochs: 1\n",
      "Learning rate: 0.0001\n",
      "====================================================================================================\n",
      "Epoch 1/1\n",
      "====================================================================================================\n",
      "done (%) | time |   loss |    acc | cpg/BS27_1_SER_loss | cpg/BS27_3_SER_loss | cpg/BS27_5_SER_loss | cpg/BS27_6_SER_loss | cpg/BS27_8_SER_loss | cpg/BS27_1_SER_acc | cpg/BS27_3_SER_acc | cpg/BS27_5_SER_acc | cpg/BS27_6_SER_acc | cpg/BS27_8_SER_acc\n",
      "--------------------------------------------------------------------------------------------------------------------------------------------------------------------------------------------------------------------------------------------------------\n",
      "    14.3 |  0.0 | 6.1145 | 0.5753 |              0.0451 |              0.0943 |              0.0522 |              0.0756 |              0.0394 |             0.5625 |             0.5714 |             0.7500 |             0.1667 |             0.8261\n",
      "    28.6 |  0.0 | 6.0944 | 0.6079 |              0.0436 |              0.0740 |              0.0567 |              0.0646 |              0.0509 |             0.6676 |             0.5982 |             0.7212 |             0.2424 |             0.8101\n",
      "    42.9 |  0.0 | 6.0831 | 0.6058 |              0.0474 |              0.0642 |              0.0556 |              0.0661 |              0.0484 |             0.6832 |             0.4782 |             0.7341 |             0.3098 |             0.8240\n",
      "    57.1 |  0.1 | 6.0841 | 0.5612 |              0.0463 |              0.0628 |              0.0625 |              0.0650 |              0.0496 |             0.5993 |             0.4234 |             0.6666 |             0.3157 |             0.8007\n",
      "    71.4 |  0.1 | 6.0767 | 0.5468 |              0.0467 |              0.0603 |              0.0594 |              0.0657 |              0.0502 |             0.5165 |             0.3804 |             0.7000 |             0.3525 |             0.7846\n",
      "    85.7 |  0.1 | 6.0702 | 0.5335 |              0.0467 |              0.0609 |              0.0596 |              0.0631 |              0.0489 |             0.4471 |             0.3630 |             0.6795 |             0.3938 |             0.7842\n",
      "   100.0 |  0.1 | 6.0675 | 0.5200 |              0.0467 |              0.0601 |              0.0592 |              0.0616 |              0.0523 |             0.4052 |             0.3588 |             0.6569 |             0.4149 |             0.7644\n",
      "Epoch 00000: val_loss improved from inf to 6.45748, saving model to ./models/joint/model_weights_val.h5\n",
      "\n",
      " split |   loss |    acc | cpg/BS27_1_SER_loss | cpg/BS27_3_SER_loss | cpg/BS27_5_SER_loss | cpg/BS27_6_SER_loss | cpg/BS27_8_SER_loss | cpg/BS27_1_SER_acc | cpg/BS27_3_SER_acc | cpg/BS27_5_SER_acc | cpg/BS27_6_SER_acc | cpg/BS27_8_SER_acc\n",
      "-----------------------------------------------------------------------------------------------------------------------------------------------------------------------------------------------------------------------------------------------\n",
      " train | 6.0675 | 0.5200 |              0.0467 |              0.0601 |              0.0592 |              0.0616 |              0.0523 |             0.4052 |             0.3588 |             0.6569 |             0.4149 |             0.7644\n",
      "   val | 6.4575 | 0.4737 |              0.1462 |              0.1371 |              0.1376 |              0.1367 |              0.1399 |             0.3520 |             0.2459 |             0.3983 |             0.6250 |             0.7471\n",
      "====================================================================================================\n",
      "\n",
      "Training set performance:\n",
      "  loss |    acc | cpg/BS27_1_SER_loss | cpg/BS27_3_SER_loss | cpg/BS27_5_SER_loss | cpg/BS27_6_SER_loss | cpg/BS27_8_SER_loss | cpg/BS27_1_SER_acc | cpg/BS27_3_SER_acc | cpg/BS27_5_SER_acc | cpg/BS27_6_SER_acc | cpg/BS27_8_SER_acc\n",
      "--------------------------------------------------------------------------------------------------------------------------------------------------------------------------------------------------------------------------------------\n",
      "6.0675 | 0.5200 |              0.0467 |              0.0601 |              0.0592 |              0.0616 |              0.0523 |             0.4052 |             0.3588 |             0.6569 |             0.4149 |             0.7644\n",
      "\n",
      "Validation set performance:\n",
      "  loss |    acc | cpg/BS27_1_SER_loss | cpg/BS27_3_SER_loss | cpg/BS27_5_SER_loss | cpg/BS27_6_SER_loss | cpg/BS27_8_SER_loss | cpg/BS27_1_SER_acc | cpg/BS27_3_SER_acc | cpg/BS27_5_SER_acc | cpg/BS27_6_SER_acc | cpg/BS27_8_SER_acc\n",
      "--------------------------------------------------------------------------------------------------------------------------------------------------------------------------------------------------------------------------------------\n",
      "6.4575 | 0.4737 |              0.1462 |              0.1371 |              0.1376 |              0.1367 |              0.1399 |             0.3520 |             0.2459 |             0.3983 |             0.6250 |             0.7471\n",
      "INFO (2017-05-01 08:54:07,169): Done!\n"
     ]
    }
   ],
   "source": [
    "cmd=\"dcpg_train.py\n",
    "    $train_files\n",
    "    --val_files $val_files\n",
    "    --dna_model $models_dir/dna\n",
    "    --cpg_model $models_dir/cpg\n",
    "    --joint_model JointL2h512\n",
    "    --train_models joint\n",
    "    --out_dir $models_dir/joint\n",
    "\"\n",
    "if [[ $test_mode -eq 1 ]]; then\n",
    "    cmd=\"$cmd\n",
    "        --nb_epoch 1\n",
    "        --nb_train_sample 1000\n",
    "        --nb_val_sample 1000\n",
    "    \"\n",
    "else\n",
    "    cmd=\"$cmd\n",
    "        --nb_epoch 10\n",
    "        \"\n",
    "fi\n",
    "run $cmd"
   ]
  },
  {
   "cell_type": "markdown",
   "metadata": {
    "deletable": true,
    "editable": true
   },
   "source": [
    "You can find more information about [training](http://deepcpg.readthedocs.io/en/latest/train.html) and [model architectures](http://deepcpg.readthedocs.io/en/latest/models.html) in the DeepCpG documentation."
   ]
  },
  {
   "cell_type": "markdown",
   "metadata": {
    "deletable": true,
    "editable": true
   },
   "source": [
    "## Imputing methylation profiles"
   ]
  },
  {
   "cell_type": "markdown",
   "metadata": {
    "deletable": true,
    "editable": true
   },
   "source": [
    "Finally, we use `dcpg_eval.py` to impute missing methylation states and to evaluate prediction performance on observed  states. We will use the trained Joint model, but could of course also evaluate the CpG or DNA model."
   ]
  },
  {
   "cell_type": "code",
   "execution_count": 14,
   "metadata": {
    "collapsed": false,
    "deletable": true,
    "editable": true
   },
   "outputs": [
    {
     "name": "stdout",
     "output_type": "stream",
     "text": [
      "\n",
      "#################################\n",
      "dcpg_eval.py ./data/c13_000000-001000.h5 ./data/c1_000000-001000.h5 --model_files ./models/joint --out_data ./eval/data.h5 --out_report ./eval/report.tsv --nb_sample 10000\n",
      "#################################\n",
      "Using TensorFlow backend.\n",
      "INFO (2017-05-01 08:54:11,591): Loading model ...\n",
      "INFO (2017-05-01 08:54:13,482): Loading data ...\n",
      "INFO (2017-05-01 08:54:13,486): Predicting ...\n",
      "INFO (2017-05-01 08:54:13,505):  128/2000 (6.4%)\n",
      "INFO (2017-05-01 08:54:14,558):  384/2000 (19.2%)\n",
      "INFO (2017-05-01 08:54:15,484):  640/2000 (32.0%)\n",
      "INFO (2017-05-01 08:54:16,467):  896/2000 (44.8%)\n",
      "INFO (2017-05-01 08:54:17,350): 1128/2000 (56.4%)\n",
      "INFO (2017-05-01 08:54:18,432): 1384/2000 (69.2%)\n",
      "INFO (2017-05-01 08:54:19,523): 1640/2000 (82.0%)\n",
      "INFO (2017-05-01 08:54:20,513): 1896/2000 (94.8%)\n",
      "INFO (2017-05-01 08:54:20,990): 2000/2000 (100.0%)\n",
      "           output       auc       acc       tpr       tnr        f1       mcc      n\n",
      "4  cpg/BS27_8_SER  0.576178  0.754902  0.946372  0.087912  0.857143  0.059508  408.0\n",
      "3  cpg/BS27_6_SER  0.562430  0.646766  0.929104  0.082090  0.778125  0.020080  402.0\n",
      "1  cpg/BS27_3_SER  0.526240  0.264706  0.006623  1.000000  0.013158  0.041582  408.0\n",
      "0  cpg/BS27_1_SER  0.497158  0.350384  0.255663  0.707317  0.383495 -0.034214  391.0\n",
      "2  cpg/BS27_5_SER  0.494105  0.419847  0.323529  0.636364  0.435644 -0.039200  393.0\n",
      "INFO (2017-05-01 08:54:21,524): Done!\n"
     ]
    }
   ],
   "source": [
    "cmd=\"dcpg_eval.py\n",
    "    $data_dir/c*.h5\n",
    "    --model_files $models_dir/joint\n",
    "    --out_data $eval_dir/data.h5\n",
    "    --out_report $eval_dir/report.tsv\n",
    "    \"\n",
    "if [[ $test_mode -eq 1 ]]; then\n",
    "    cmd=\"$cmd\n",
    "        --nb_sample 10000\n",
    "        \"\n",
    "fi\n",
    "run $cmd"
   ]
  },
  {
   "cell_type": "markdown",
   "metadata": {
    "deletable": true,
    "editable": true
   },
   "source": [
    "The imputed methylation profiles of all cells are stored in `data.h5`, and performance metrics in `report.tsv`."
   ]
  },
  {
   "cell_type": "code",
   "execution_count": 15,
   "metadata": {
    "collapsed": false,
    "deletable": true,
    "editable": true
   },
   "outputs": [
    {
     "name": "stdout",
     "output_type": "stream",
     "text": [
      "/                        Group\n",
      "/chromo                  Dataset {2000}\n",
      "/outputs                 Group\n",
      "/outputs/cpg             Group\n",
      "/outputs/cpg/BS27_1_SER  Dataset {2000}\n",
      "/outputs/cpg/BS27_3_SER  Dataset {2000}\n",
      "/outputs/cpg/BS27_5_SER  Dataset {2000}\n",
      "/outputs/cpg/BS27_6_SER  Dataset {2000}\n",
      "/outputs/cpg/BS27_8_SER  Dataset {2000}\n",
      "/pos                     Dataset {2000}\n",
      "/preds                   Group\n",
      "/preds/cpg               Group\n",
      "/preds/cpg/BS27_1_SER    Dataset {2000}\n",
      "/preds/cpg/BS27_3_SER    Dataset {2000}\n",
      "/preds/cpg/BS27_5_SER    Dataset {2000}\n",
      "/preds/cpg/BS27_6_SER    Dataset {2000}\n",
      "/preds/cpg/BS27_8_SER    Dataset {2000}\n"
     ]
    }
   ],
   "source": [
    "h5ls -r $eval_dir/data.h5"
   ]
  },
  {
   "cell_type": "code",
   "execution_count": 16,
   "metadata": {
    "collapsed": false,
    "deletable": true,
    "editable": true
   },
   "outputs": [
    {
     "name": "stdout",
     "output_type": "stream",
     "text": [
      "metric\toutput\tvalue\n",
      "acc\tcpg/BS27_1_SER\t0.35038363171355497\n",
      "acc\tcpg/BS27_3_SER\t0.2647058823529412\n",
      "acc\tcpg/BS27_5_SER\t0.4198473282442748\n",
      "acc\tcpg/BS27_6_SER\t0.6467661691542289\n",
      "acc\tcpg/BS27_8_SER\t0.7549019607843137\n",
      "auc\tcpg/BS27_1_SER\t0.4971584181861236\n",
      "auc\tcpg/BS27_3_SER\t0.5262401599400225\n",
      "auc\tcpg/BS27_5_SER\t0.49410549343704424\n",
      "auc\tcpg/BS27_6_SER\t0.5624303853865003\n",
      "auc\tcpg/BS27_8_SER\t0.5761777654522134\n",
      "f1\tcpg/BS27_1_SER\t0.38349514563106796\n",
      "f1\tcpg/BS27_3_SER\t0.013157894736842105\n",
      "f1\tcpg/BS27_5_SER\t0.43564356435643564\n",
      "f1\tcpg/BS27_6_SER\t0.778125\n",
      "f1\tcpg/BS27_8_SER\t0.8571428571428572\n",
      "mcc\tcpg/BS27_1_SER\t-0.03421383969733213\n",
      "mcc\tcpg/BS27_3_SER\t0.04158162353942664\n",
      "mcc\tcpg/BS27_5_SER\t-0.03920031661439582\n",
      "mcc\tcpg/BS27_6_SER\t0.020080483222562447\n",
      "mcc\tcpg/BS27_8_SER\t0.05950816698494059\n",
      "n\tcpg/BS27_1_SER\t391.0\n",
      "n\tcpg/BS27_3_SER\t408.0\n",
      "n\tcpg/BS27_5_SER\t393.0\n",
      "n\tcpg/BS27_6_SER\t402.0\n",
      "n\tcpg/BS27_8_SER\t408.0\n",
      "tnr\tcpg/BS27_1_SER\t0.7073170731707317\n",
      "tnr\tcpg/BS27_3_SER\t1.0\n",
      "tnr\tcpg/BS27_5_SER\t0.6363636363636364\n",
      "tnr\tcpg/BS27_6_SER\t0.08208955223880597\n",
      "tnr\tcpg/BS27_8_SER\t0.08791208791208792\n",
      "tpr\tcpg/BS27_1_SER\t0.255663430420712\n",
      "tpr\tcpg/BS27_3_SER\t0.006622516556291391\n",
      "tpr\tcpg/BS27_5_SER\t0.3235294117647059\n",
      "tpr\tcpg/BS27_6_SER\t0.9291044776119403\n",
      "tpr\tcpg/BS27_8_SER\t0.9463722397476341\n"
     ]
    }
   ],
   "source": [
    "cat $eval_dir/report.tsv"
   ]
  },
  {
   "cell_type": "markdown",
   "metadata": {
    "deletable": true,
    "editable": true
   },
   "source": [
    "## Exporting methylation profiles"
   ]
  },
  {
   "cell_type": "markdown",
   "metadata": {
    "deletable": true,
    "editable": true
   },
   "source": [
    "`dcpg_eval_export.py` can be used to export imputed methylation profiles:"
   ]
  },
  {
   "cell_type": "code",
   "execution_count": 17,
   "metadata": {
    "collapsed": false,
    "deletable": true,
    "editable": true
   },
   "outputs": [
    {
     "name": "stdout",
     "output_type": "stream",
     "text": [
      "INFO (2017-05-01 08:54:23,437): cpg/BS27_1_SER\n",
      "INFO (2017-05-01 08:54:23,443): cpg/BS27_3_SER\n",
      "INFO (2017-05-01 08:54:23,448): cpg/BS27_5_SER\n",
      "INFO (2017-05-01 08:54:23,453): cpg/BS27_6_SER\n",
      "INFO (2017-05-01 08:54:23,458): cpg/BS27_8_SER\n",
      "INFO (2017-05-01 08:54:23,463): Done!\n"
     ]
    }
   ],
   "source": [
    "cmd=\"dcpg_eval_export.py\n",
    "    $eval_dir/data.h5\n",
    "    -o $eval_dir/hdf\n",
    "    -f hdf\n",
    "\"\n",
    "eval $cmd"
   ]
  },
  {
   "cell_type": "code",
   "execution_count": 18,
   "metadata": {
    "collapsed": false,
    "deletable": true,
    "editable": true,
    "scrolled": true
   },
   "outputs": [
    {
     "name": "stdout",
     "output_type": "stream",
     "text": [
      "BS27_1_SER.h5 BS27_3_SER.h5 BS27_5_SER.h5 BS27_6_SER.h5 BS27_8_SER.h5\n"
     ]
    }
   ],
   "source": [
    "ls $eval_dir/hdf"
   ]
  },
  {
   "cell_type": "markdown",
   "metadata": {
    "deletable": true,
    "editable": true
   },
   "source": [
    "By default, `dcpg_eval_export.py` exports profiles to HDF5 files. You can use `-f bedGraph` to export profiles to gzip-compressed bedGraph files, which, however, takes longer."
   ]
  },
  {
   "cell_type": "markdown",
   "metadata": {
    "deletable": true,
    "editable": true
   },
<<<<<<< HEAD
   "source": [
    "## Evaluating prediction performances"
   ]
  },
  {
   "cell_type": "markdown",
   "metadata": {
    "deletable": true,
    "editable": true
   },
=======
>>>>>>> keras2
   "source": [
    "`dcpg_eval_perf.py` enables evaluating prediction performances genome wide, in specific genomic contexts, and by computing performance curves. Using `--anno_files`, you can specify a list of BED files with annotation tracks that are evaluated, and you can compute  ROC and precision recall (PR) curves for individual outputs using `--curves roc pr`. You can also use `--anno_curves roc pr` to compute performance curves for annotations specified by `--anno_files`."
   ]
  },
  {
   "cell_type": "code",
   "execution_count": 19,
   "metadata": {
    "collapsed": false,
    "deletable": true,
    "editable": true
   },
   "outputs": [
    {
     "name": "stdout",
     "output_type": "stream",
     "text": [
      "INFO (2017-05-01 08:54:25,305): Loading data ...\n",
      "INFO (2017-05-01 08:54:25,318): 2000 samples\n",
      "INFO (2017-05-01 08:54:25,318): Evaluating globally ...\n",
      "           output    anno       auc       acc       tpr       tnr        f1       mcc      n\n",
      "4  cpg/BS27_8_SER  global  0.576178  0.754902  0.946372  0.087912  0.857143  0.059508  408.0\n",
      "3  cpg/BS27_6_SER  global  0.562430  0.646766  0.929104  0.082090  0.778125  0.020080  402.0\n",
      "1  cpg/BS27_3_SER  global  0.526240  0.264706  0.006623  1.000000  0.013158  0.041582  408.0\n",
      "0  cpg/BS27_1_SER  global  0.497158  0.350384  0.255663  0.707317  0.383495 -0.034214  391.0\n",
      "2  cpg/BS27_5_SER  global  0.494105  0.419847  0.323529  0.636364  0.435644 -0.039200  393.0\n",
      "INFO (2017-05-01 08:54:25,378): roc curve\n",
      "INFO (2017-05-01 08:54:25,389): pr curve\n",
      "INFO (2017-05-01 08:54:25,399): Evaluating annotations ...\n",
      "INFO (2017-05-01 08:54:25,593): CGI: 312\n",
      "/opt/local/Library/Frameworks/Python.framework/Versions/3.6/lib/python3.6/site-packages/sklearn/metrics/classification.py:1113: UndefinedMetricWarning: F-score is ill-defined and being set to 0.0 due to no predicted samples.\n",
      "  'precision', 'predicted', average, warn_for)\n",
      "/opt/local/Library/Frameworks/Python.framework/Versions/3.6/lib/python3.6/site-packages/sklearn/metrics/classification.py:516: RuntimeWarning: invalid value encountered in double_scalars\n",
      "  mcc = cov_ytyp / np.sqrt(var_yt * var_yp)\n",
      "INFO (2017-05-01 08:54:25,941): CGI_shelf: 97\n",
      "INFO (2017-05-01 08:54:25,942): Skipping due to insufficient annotated sites!\n",
      "INFO (2017-05-01 08:54:26,261): CGI_shore: 120\n",
      "INFO (2017-05-01 08:54:26,499): Gene_body: 969\n",
      "INFO (2017-05-01 08:54:27,958): Introns: 724\n",
      "INFO (2017-05-01 08:54:29,827): Exons: 261\n",
      "INFO (2017-05-01 08:54:31,476): UW_DNase1: 160\n",
      "INFO (2017-05-01 08:54:31,503): Writing ./eval/perf/metrics.tsv ...\n",
      "INFO (2017-05-01 08:54:31,509): Writing ./eval/perf/curves.tsv ...\n",
      "INFO (2017-05-01 08:54:31,528): Done!\n"
     ]
    }
   ],
   "source": [
    "cmd=\"dcpg_eval_perf.py\n",
    "    $eval_dir/data.h5\n",
    "    --out_dir $eval_dir/perf\n",
    "    --curves roc pr\n",
    "    --anno_files $anno_dir/CGI*.bed $anno_dir/Gene_body.bed $anno_dir/Introns.bed $anno_dir/Exons.bed $anno_dir/UW_DNase1.bed\n",
    "\"\n",
    "eval $cmd"
   ]
  },
  {
   "cell_type": "markdown",
   "metadata": {
    "deletable": true,
    "editable": true
   },
   "source": [
    "Performance metrics are stored in `metrics.tsv`, and performances curves in `curves.tsv`:"
   ]
  },
  {
   "cell_type": "code",
   "execution_count": 20,
   "metadata": {
    "collapsed": false,
    "deletable": true,
    "editable": true
   },
   "outputs": [
    {
     "name": "stdout",
     "output_type": "stream",
     "text": [
      "anno\tmetric\toutput\tvalue\n",
      "global\tacc\tcpg/BS27_3_SER\t0.26471\n",
      "global\tacc\tcpg/BS27_1_SER\t0.35038\n",
      "global\tacc\tcpg/BS27_5_SER\t0.41985\n",
      "global\tacc\tcpg/BS27_6_SER\t0.64677\n",
      "global\tacc\tcpg/BS27_8_SER\t0.75490\n",
      "global\tauc\tcpg/BS27_5_SER\t0.49411\n",
      "global\tauc\tcpg/BS27_1_SER\t0.49716\n",
      "global\tauc\tcpg/BS27_3_SER\t0.52624\n",
      "global\tauc\tcpg/BS27_6_SER\t0.56243\n"
     ]
    }
   ],
   "source": [
    "head $eval_dir/perf/metrics.tsv"
   ]
  },
  {
   "cell_type": "code",
   "execution_count": 21,
   "metadata": {
    "collapsed": false,
    "deletable": true,
    "editable": true
   },
   "outputs": [
    {
     "name": "stdout",
     "output_type": "stream",
     "text": [
      "anno\tcurve\toutput\tx\ty\tthr\n",
      "global\troc\tcpg/BS27_1_SER\t0.00000\t0.00324\t0.51904\n",
      "global\troc\tcpg/BS27_1_SER\t0.00000\t0.00647\t0.51881\n",
      "global\troc\tcpg/BS27_1_SER\t0.03659\t0.00647\t0.51650\n",
      "global\troc\tcpg/BS27_1_SER\t0.03659\t0.02265\t0.51255\n",
      "global\troc\tcpg/BS27_1_SER\t0.04878\t0.02265\t0.51246\n",
      "global\troc\tcpg/BS27_1_SER\t0.04878\t0.06472\t0.50840\n",
      "global\troc\tcpg/BS27_1_SER\t0.06098\t0.06472\t0.50821\n",
      "global\troc\tcpg/BS27_1_SER\t0.06098\t0.06796\t0.50781\n",
      "global\troc\tcpg/BS27_1_SER\t0.07317\t0.06796\t0.50779\n"
     ]
    }
   ],
   "source": [
    "head $eval_dir/perf/curves.tsv"
   ]
  },
  {
   "cell_type": "markdown",
   "metadata": {
    "deletable": true,
    "editable": true
   },
   "source": [
    "You can find more annotation tracks in the example data directory:"
   ]
  },
  {
   "cell_type": "code",
   "execution_count": 22,
   "metadata": {
    "collapsed": false,
    "deletable": true,
    "editable": true
   },
   "outputs": [
    {
     "name": "stdout",
     "output_type": "stream",
     "text": [
      "Active_enhancers.bed H3K4me1.bed          Tet2.bed\n",
      "CGI.bed              H3K4me1_Tet1.bed     UW_DNase1.bed\n",
      "CGI_shelf.bed        IAP.bed              Wu_Tet1.bed\n",
      "CGI_shore.bed        Intergenic.bed       mESC_enhancers.bed\n",
      "Exons.bed            Introns.bed          p300.bed\n",
      "Gene_body.bed        LMRs.bed             prom_2k05k.bed\n",
      "H3K27ac.bed          Oct4_2i.bed          prom_2k05k_cgi.bed\n",
      "H3K27me3.bed         TSSs.bed             prom_2k05k_ncgi.bed\n"
     ]
    }
   ],
   "source": [
    "ls $anno_dir"
   ]
  },
  {
   "cell_type": "markdown",
   "metadata": {
    "deletable": true,
    "editable": true
   },
   "source": [
    "To visualize performances of a single model, you can use the Rmarkdown script `R/eval_perf_single.Rmd` in the DeepCpG directory. The following command will only work if you have installed R and the required libraries (rmarkdown, knitr, ggplot, dplyr, tidyr, xtable, grid). `R/eval_perf_mult.Rmd` can be used for a side-by-side comparison of multiple models."
   ]
  },
  {
   "cell_type": "code",
   "execution_count": 23,
   "metadata": {
    "collapsed": false,
    "deletable": true,
    "editable": true
   },
   "outputs": [
    {
     "name": "stdout",
     "output_type": "stream",
     "text": [
      "\n",
      "\n",
      "processing file: index.Rmd\n",
      "  |...                                                              |   5%\n",
      "   inline R code fragments\n",
      "\n",
      "  |......                                                           |   9%\n",
      "label: unnamed-chunk-1 (with options) \n",
      "List of 1\n",
      " $ include: symbol F\n",
      "\n",
      "  |.........                                                        |  14%\n",
      "  ordinary text without R code\n",
      "\n",
      "  |............                                                     |  18%\n",
      "label: unnamed-chunk-2 (with options) \n",
      "List of 1\n",
      " $ include: symbol F\n",
      "\n",
      "\n",
      "Attaching package: 'dplyr'\n",
      "\n",
      "The following objects are masked from 'package:stats':\n",
      "\n",
      "    filter, lag\n",
      "\n",
      "The following objects are masked from 'package:base':\n",
      "\n",
      "    intersect, setdiff, setequal, union\n",
      "\n",
      "  |...............                                                  |  23%\n",
      "  ordinary text without R code\n",
      "\n",
      "  |..................                                               |  27%\n",
      "label: unnamed-chunk-3\n",
      "  |.....................                                            |  32%\n",
      "  ordinary text without R code\n",
      "\n",
      "  |........................                                         |  36%\n",
      "label: unnamed-chunk-4\n",
      "  |...........................                                      |  41%\n",
      "  ordinary text without R code\n",
      "\n",
      "  |..............................                                   |  45%\n",
      "label: unnamed-chunk-5\n",
      "  |................................                                 |  50%\n",
      "  ordinary text without R code\n",
      "\n",
      "  |...................................                              |  55%\n",
      "label: unnamed-chunk-6\n",
      "  |......................................                           |  59%\n",
      "  ordinary text without R code\n",
      "\n",
      "  |.........................................                        |  64%\n",
      "label: unnamed-chunk-7 (with options) \n",
      "List of 1\n",
      " $ results: chr \"asis\"\n",
      "\n",
      "  |............................................                     |  68%\n",
      "  ordinary text without R code\n",
      "\n",
      "  |...............................................                  |  73%\n",
      "label: unnamed-chunk-8 (with options) \n",
      "List of 2\n",
      " $ fig.width : num 10\n",
      " $ fig.height: num 10\n",
      "\n",
      "  |..................................................               |  77%\n",
      "  ordinary text without R code\n",
      "\n",
      "  |.....................................................            |  82%\n",
      "label: unnamed-chunk-9 (with options) \n",
      "List of 2\n",
      " $ fig.width : num 10\n",
      " $ fig.height: num 6\n",
      "\n",
      "  |........................................................         |  86%\n",
      "  ordinary text without R code\n",
      "\n",
      "  |...........................................................      |  91%\n",
      "label: unnamed-chunk-10 (with options) \n",
      "List of 1\n",
      " $ results: chr \"asis\"\n",
      "\n",
      "  |..............................................................   |  95%\n",
      "  ordinary text without R code\n",
      "\n",
      "  |.................................................................| 100%\n",
      "label: unnamed-chunk-11 (with options) \n",
      "List of 2\n",
      " $ fig.width : num 10\n",
      " $ fig.height: num 25\n",
      "\n",
      "\n",
      "output file: index.knit.md\n",
      "\n",
      "/opt/local/bin/pandoc +RTS -K512m -RTS index.utf8.md --to html --from markdown+autolink_bare_uris+ascii_identifiers+tex_math_single_backslash --output index.html --smart --email-obfuscation none --self-contained --standalone --section-divs --table-of-contents --toc-depth 3 --template /Users/angermue/Library/R/3.3/library/rmarkdown/rmd/h/default.html --no-highlight --variable highlightjs=1 --variable 'theme:bootstrap' --include-in-header /var/folders/5n/38b69b1x03n7bb63rbnlzd280000gn/T//RtmpzOpyeq/rmarkdown-str1061340fabfdb.html --mathjax --variable 'mathjax-url:https://cdn.mathjax.org/mathjax/latest/MathJax.js?config=TeX-AMS-MML_HTMLorMML' \n",
      "\n",
      "Output created: index.html\n",
      "Warning messages:\n",
      "1: `axis.ticks.margin` is deprecated. Please set `margin` property  of `axis.text` instead \n",
      "2: `axis.ticks.margin` is deprecated. Please set `margin` property  of `axis.text` instead \n",
      "3: `axis.ticks.margin` is deprecated. Please set `margin` property  of `axis.text` instead \n"
     ]
    }
   ],
   "source": [
    "cp ../../../R/eval_perf_single.Rmd $eval_dir/perf/index.Rmd\n",
    "cwd=$PWD\n",
    "cd $eval_dir/perf\n",
    "Rscript -e \"library(rmarkdown); render('./index.Rmd', output_format='html_document')\"\n",
    "cd $cwd"
   ]
  },
  {
   "cell_type": "markdown",
   "metadata": {
    "deletable": true,
    "editable": true
   },
   "source": [
    "<a href='./eval/perf/index.html'>Prediction performance evaluation</a>"
   ]
  }
 ],
 "metadata": {
  "kernelspec": {
   "display_name": "Bash",
   "language": "bash",
   "name": "bash"
  },
  "language_info": {
   "codemirror_mode": "shell",
   "file_extension": ".sh",
   "mimetype": "text/x-sh",
   "name": "bash"
  }
 },
 "nbformat": 4,
 "nbformat_minor": 1
}
