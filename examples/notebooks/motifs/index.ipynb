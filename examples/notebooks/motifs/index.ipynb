{
 "cells": [
  {
   "cell_type": "markdown",
   "metadata": {
    "deletable": true,
    "editable": true
   },
   "source": [
    "# Motif analysis"
   ]
  },
  {
   "cell_type": "markdown",
   "metadata": {
    "deletable": true,
    "editable": true
   },
   "source": [
    "This tutorial describes how to visualize and analyze motifs learnt by DeepCpG, i.e. the filters of the first convolutional layer of the DNA model.\n",
    "\n",
    "We fill first compute the activations (occurrence frequencies) of motifs in sequence windows, and then extract and align sequence fragments that maximally activate each motif. Finally, we will visualize the resulting alignments via [Weblogo](http://weblogo.threeplusone.com/) and compare them to known motifs via [Tomtom](http://web.mit.edu/meme_v4.9.0/doc/tomtom.html)."
   ]
  },
  {
   "cell_type": "markdown",
   "metadata": {},
   "source": [
    "## Table of Contents\n",
    "* [Requirements](#Requirements)\n",
    "* [Initialization](#Initialization)\n",
    "* [Dowloading the DeepCpG model](#Dowloading-the-DeepCpG-model)\n",
    "* [Creating DeepCpG data files](#Creating-DeepCpG-data-files)\n",
    "* [Computing filter activations](#Computing-filter-activations)\n",
    "* [Visualizing and analyzing motifs](#Visualizing-and-analyzing-motifs)"
   ]
  },
  {
   "cell_type": "markdown",
   "metadata": {
    "deletable": true,
    "editable": true
   },
   "source": [
    "## Requirements "
   ]
  },
  {
   "cell_type": "markdown",
   "metadata": {
    "deletable": true,
    "editable": true
   },
   "source": [
    "[Tomtom](http://web.mit.edu/meme_v4.9.0/doc/tomtom.html) is required for comparing motifs and is part of the [MEME-Suite](http://meme-suite.org/), which can be downloaded [here](http://meme-suite.org/doc/download.html).\n",
    "\n",
    "[WebLogo3](http://weblogo.threeplusone.com/) is required for visualizing motifs and can be installed with `pip`:\n",
    "\n",
    "```python\n",
    "pip install weblogo\n",
    "```"
   ]
  },
  {
   "cell_type": "markdown",
   "metadata": {
    "deletable": true,
    "editable": true
   },
   "source": [
    "## Initialization"
   ]
  },
  {
   "cell_type": "markdown",
   "metadata": {},
   "source": [
    "We first initialize some variables that will be used throughout the tutorial. `test_mode=1` should be used for testing purposes, which speeds up computations by only using a subset of the data. For real applications, `test_mode=0` should be used."
   ]
  },
  {
   "cell_type": "code",
   "execution_count": 11,
   "metadata": {
    "collapsed": false,
    "deletable": true,
    "editable": true
   },
   "outputs": [
    {
     "name": "stdout",
     "output_type": "stream",
     "text": []
    }
   ],
   "source": [
    "function run {\n",
    "  local cmd=$@\n",
    "  echo\n",
    "  echo \"#################################\"\n",
    "  echo $cmd\n",
    "  echo \"#################################\"\n",
    "  eval $cmd\n",
    "}\n",
    "\n",
    "test_mode=1 # Set to 1 for testing and 0 otherwise\n",
    "example_dir=\"../../data\" # Directory with example data.\n",
    "cpg_dir=\"$example_dir/cpg\" # Directory with CpG profiles.\n",
    "dna_dir=\"$example_dir/dna/mm10\" # Directory with DNA sequences.\n",
    "\n",
    "motif_dir=\"./motifs\" # Motif output directory"
   ]
  },
  {
   "cell_type": "markdown",
   "metadata": {
    "deletable": true,
    "editable": true
   },
   "source": [
    "## Dowloading the DeepCpG model "
   ]
  },
  {
   "cell_type": "markdown",
   "metadata": {
    "deletable": true,
    "editable": true
   },
   "source": [
    "We will analyze the filters of the DeepCpG DNA model that was trained on serum cells from *Smallwood et al. (2014)*, and which is described in the DeepCpG publication. This model can be downloaded with `dcpg_download.py`:"
   ]
  },
  {
   "cell_type": "code",
   "execution_count": 12,
   "metadata": {
    "collapsed": false,
    "deletable": true,
    "editable": true
   },
   "outputs": [
    {
     "name": "stdout",
     "output_type": "stream",
     "text": [
      "\r\n",
      "#################################\r\n",
      "dcpg_download.py Smallwood2014_serum_dna --out_dir ./motifs/model\r\n",
      "#################################\r\n",
      "INFO (2017-03-05 19:09:31,461): Downloading model ...\r\n",
      "INFO (2017-03-05 19:09:31,461): Model URL: http://www.ebi.ac.uk/~angermue/deepcpg/alias/1754b5bbc21a8257663acc52e657f69c\r\n",
      "--2017-03-05 19:09:31--  http://www.ebi.ac.uk/~angermue/deepcpg/alias/1754b5bbc21a8257663acc52e657f69c\r\n",
      "Resolving www.ebi.ac.uk (www.ebi.ac.uk)... 193.62.192.80\r\n",
      "Connecting to www.ebi.ac.uk (www.ebi.ac.uk)|193.62.192.80|:80... connected.\r\n",
      "HTTP request sent, awaiting response... 200 OK\r\n",
      "Length: 124853155 (119M) [text/plain]\r\n",
      "Saving to: ‘./motifs/model/model.zip’\r\n",
      "\r\n",
      "\r",
      "./motifs/model/mode   0%[                    ]       0  --.-KB/s               \r",
      "./motifs/model/mode   0%[                    ] 941.54K  4.60MB/s               \r",
      "./motifs/model/mode   2%[                    ]   2.66M  6.64MB/s               \r",
      "./motifs/model/mode   4%[                    ]   5.36M  8.90MB/s               \r",
      "./motifs/model/mode   7%[>                   ]   8.78M  10.9MB/s               \r",
      "./motifs/model/mode   9%[>                   ]  10.72M  10.7MB/s               \r",
      "./motifs/model/mode   9%[>                   ]  11.81M  9.81MB/s               \r",
      "./motifs/model/mode  11%[=>                  ]  13.75M  9.78MB/s               \r",
      "./motifs/model/mode  13%[=>                  ]  16.42M  10.2MB/s               \r",
      "./motifs/model/mode  16%[==>                 ]  19.76M  10.9MB/s               \r",
      "./motifs/model/mode  19%[==>                 ]  23.78M  11.9MB/s               \r",
      "./motifs/model/mode  23%[===>                ]  28.23M  12.8MB/s               \r",
      "./motifs/model/mode  27%[====>               ]  32.82M  13.6MB/s               \r",
      "./motifs/model/mode  30%[=====>              ]  36.79M  12.8MB/s               \r",
      "./motifs/model/mode  31%[=====>              ]  37.33M  12.1MB/s    eta 7s     \r",
      "./motifs/model/mode  31%[=====>              ]  37.49M  11.4MB/s    eta 7s     \r",
      "./motifs/model/mode  31%[=====>              ]  37.81M  11.4MB/s    eta 7s     \r",
      "./motifs/model/mode  32%[=====>              ]  38.43M  10.8MB/s    eta 7s     \r",
      "./motifs/model/mode  33%[=====>              ]  39.46M  10.4MB/s    eta 7s     \r",
      "./motifs/model/mode  34%[=====>              ]  41.13M  9.70MB/s    eta 8s     \r",
      "./motifs/model/mode  36%[======>             ]  43.38M  10.0MB/s    eta 8s     \r",
      "./motifs/model/mode  38%[======>             ]  46.14M  10.4MB/s    eta 8s     \r",
      "./motifs/model/mode  41%[=======>            ]  49.96M  10.9MB/s    eta 8s     \r",
      "./motifs/model/mode  45%[========>           ]  54.04M  11.3MB/s    eta 8s     \r",
      "./motifs/model/mode  49%[========>           ]  58.51M  11.7MB/s    eta 5s     \r",
      "./motifs/model/mode  52%[=========>          ]  62.89M  11.5MB/s    eta 5s     \r",
      "./motifs/model/mode  56%[==========>         ]  67.15M  11.6MB/s    eta 5s     \r",
      "./motifs/model/mode  59%[==========>         ]  71.44M  11.7MB/s    eta 5s     \r",
      "./motifs/model/mode  63%[===========>        ]  75.67M  12.7MB/s    eta 5s     \r",
      "./motifs/model/mode  64%[===========>        ]  76.31M  12.6MB/s    eta 3s     \r",
      "./motifs/model/mode  65%[============>       ]  77.59M  12.8MB/s    eta 3s     \r",
      "./motifs/model/mode  66%[============>       ]  79.66M  13.7MB/s    eta 3s     \r",
      "./motifs/model/mode  69%[============>       ]  82.36M  14.2MB/s    eta 3s     \r",
      "./motifs/model/mode  72%[=============>      ]  86.03M  15.0MB/s    eta 3s     \r",
      "./motifs/model/mode  75%[==============>     ]  90.21M  16.1MB/s    eta 2s     \r",
      "./motifs/model/mode  78%[==============>     ]  94.00M  16.6MB/s    eta 2s     \r",
      "./motifs/model/mode  81%[===============>    ]  96.74M  16.6MB/s    eta 2s     \r",
      "./motifs/model/mode  82%[===============>    ]  97.66M  15.7MB/s    eta 2s     \r",
      "./motifs/model/mode  83%[===============>    ]  99.20M  15.0MB/s    eta 2s     \r",
      "./motifs/model/mode  84%[===============>    ] 100.84M  14.3MB/s    eta 1s     \r",
      "./motifs/model/mode  86%[================>   ] 102.58M  13.1MB/s    eta 1s     \r",
      "./motifs/model/mode  87%[================>   ] 104.41M  12.5MB/s    eta 1s     \r",
      "./motifs/model/mode  89%[================>   ] 106.24M  11.8MB/s    eta 1s     \r",
      "./motifs/model/mode  90%[=================>  ] 108.11M  10.7MB/s    eta 1s     \r",
      "./motifs/model/mode  92%[=================>  ] 109.92M  10.9MB/s    eta 1s     \r",
      "./motifs/model/mode  93%[=================>  ] 111.70M  11.1MB/s    eta 1s     \r",
      "./motifs/model/mode  95%[==================> ] 113.66M  11.3MB/s    eta 1s     \r",
      "./motifs/model/mode  97%[==================> ] 115.53M  11.1MB/s    eta 1s     \r",
      "./motifs/model/mode  98%[==================> ] 117.33M  10.7MB/s    eta 1s     \r",
      "./motifs/model/mode 100%[===================>] 119.07M  10.2MB/s    in 10s     \r\n",
      "\r\n",
      "2017-03-05 19:09:42 (11.8 MB/s) - ‘./motifs/model/model.zip’ saved [124853155/124853155]\r\n",
      "\r\n",
      "Archive:  ./motifs/model/model.zip\r\n",
      "  inflating: ./motifs/model/model.h5  \r\n",
      "  inflating: ./motifs/model/model.json  \r\n",
      "  inflating: ./motifs/model/model_weights.h5  \r\n",
      "  inflating: ./motifs/model/model_weights_train.h5  \r\n",
      "  inflating: ./motifs/model/model_weights_val.h5  \r\n",
      "INFO (2017-03-05 19:09:44,010): Done!\r\n"
     ]
    }
   ],
   "source": [
    "cmd=\"dcpg_download.py\n",
    "  Smallwood2014_serum_dna\n",
    "  --out_dir $motif_dir/model\n",
    "  \"\n",
    "run $cmd"
   ]
  },
  {
   "cell_type": "markdown",
   "metadata": {
    "deletable": true,
    "editable": true
   },
   "source": [
    "## Creating DeepCpG data files"
   ]
  },
  {
   "cell_type": "markdown",
   "metadata": {
    "deletable": true,
    "editable": true
   },
   "source": [
    "Next, we use `dcpg_data.py` to extract sequence windows for computing filter activations. If you have already created a dataset, you can skip this step. We use `--nb_sample_chromo` to randomly sample only 1500 CpG sites from each chromosome, which is sufficient for visualizing motifs and reduces compute costs."
   ]
  },
  {
   "cell_type": "code",
   "execution_count": 13,
   "metadata": {
    "collapsed": false,
    "deletable": true,
    "editable": true
   },
   "outputs": [
    {
     "name": "stdout",
     "output_type": "stream",
     "text": [
      "\r\n",
      "#################################\r\n",
      "dcpg_data.py --cpg_profiles ../../data//cpg/BS27_1_SER.tsv ../../data//cpg/BS27_3_SER.tsv ../../data//cpg/BS27_5_SER.tsv ../../data//cpg/BS27_6_SER.tsv ../../data//cpg/BS27_8_SER.tsv --dna_files ../../data//dna/mm10 --out_dir ./data --dna_wlen 1001 --nb_sample 1000\r\n",
      "#################################\r\n",
      "INFO (2017-03-05 19:09:49,454): Reading single-cell profiles ...\r\n",
      "INFO (2017-03-05 19:09:49,730): 1000 samples\r\n",
      "INFO (2017-03-05 19:09:49,731): --------------------------------------------------------------------------------\r\n",
      "INFO (2017-03-05 19:09:49,731): Chromosome 1 ...\r\n",
      "INFO (2017-03-05 19:09:49,739): 1000 / 1000 (100.0%) sites matched minimum coverage filter\r\n",
      "INFO (2017-03-05 19:09:54,709): Chunk \t1 / 1\r\n",
      "INFO (2017-03-05 19:09:54,776): Extracting DNA sequence windows ...\r\n",
      "INFO (2017-03-05 19:09:55,273): Done!\r\n"
     ]
    }
   ],
   "source": [
    "data_dir=\"./data\"\n",
    "cmd=\"dcpg_data.py\n",
    "    --cpg_profiles $cpg_dir/*.tsv\n",
    "    --dna_files $dna_dir\n",
    "    --out_dir $data_dir\n",
    "    --dna_wlen 1001\n",
    "    \"\n",
    "if [[ $test_mode -eq 1 ]]; then\n",
    "    cmd=\"$cmd --nb_sample 1000\"\n",
    "else\n",
    "    cmd=\"$cmd --nb_sample_chromo 1500\"\n",
    "fi\n",
    "run $cmd"
   ]
  },
  {
   "cell_type": "markdown",
   "metadata": {
    "deletable": true,
    "editable": true
   },
   "source": [
    "## Computing filter activations "
   ]
  },
  {
   "cell_type": "markdown",
   "metadata": {
    "deletable": true,
    "editable": true
   },
   "source": [
    "Now we use `dcpg_filter_act.py` to compute the activation of filters in DNA sequence windows. We are using `--store_inputs` to copy DNA sequences from the input file to the output file, since they are needed in the following step align sequence fragments. We are considering only 30000 CpG sites, which is usually sufficient for visualizing motifs."
   ]
  },
  {
   "cell_type": "code",
   "execution_count": 14,
   "metadata": {
    "collapsed": false,
    "deletable": true,
    "editable": true
   },
   "outputs": [
    {
     "name": "stdout",
     "output_type": "stream",
     "text": [
      "\r\n",
      "#################################\r\n",
      "dcpg_filter_act.py ./data/c1_000000-001000.h5 ./data/c1_000000-025000.h5 --model_files ./motifs/model --out_file ./motifs/activations.h5 --store_inputs --nb_sample 1000\r\n",
      "#################################\r\n",
      "Using TensorFlow backend.\r\n",
      "INFO (2017-03-05 19:10:06,304): Loading model ...\r\n",
      "INFO (2017-03-05 19:10:06,305): Using model files ./motifs/model/model.json ./motifs/model/model_weights.h5\r\n",
      "INFO (2017-03-05 19:10:07,068): Using activation layer \"dna/activation_1\"\r\n",
      "INFO (2017-03-05 19:10:07,068): Using weight layer \"dna/convolution1d_1\"\r\n",
      "INFO (2017-03-05 19:10:07,069): Reading data ...\r\n",
      "INFO (2017-03-05 19:10:07,084): Computing activations\r\n",
      "INFO (2017-03-05 19:10:07,093):  128/1000 (12.8%)\r\n",
      "INFO (2017-03-05 19:10:08,145):  256/1000 (25.6%)\r\n",
      "INFO (2017-03-05 19:10:09,347):  384/1000 (38.4%)\r\n",
      "INFO (2017-03-05 19:10:10,359):  512/1000 (51.2%)\r\n",
      "INFO (2017-03-05 19:10:11,396):  640/1000 (64.0%)\r\n",
      "INFO (2017-03-05 19:10:12,631):  768/1000 (76.8%)\r\n",
      "INFO (2017-03-05 19:10:13,726):  896/1000 (89.6%)\r\n",
      "INFO (2017-03-05 19:10:14,773): 1000/1000 (100.0%)\r\n",
      "INFO (2017-03-05 19:10:15,584): Done!\r\n"
     ]
    }
   ],
   "source": [
    "cmd=\"dcpg_filter_act.py\n",
    "    $data_dir/*.h5\n",
    "    --model_files ${motif_dir}/model\n",
    "    --out_file ${motif_dir}/activations.h5\n",
    "    --store_inputs\n",
    "    \"\n",
    "if [[ $test_mode -eq 1 ]]; then\n",
    "    cmd=\"$cmd --nb_sample 1000\"\n",
    "else\n",
    "    cmd=\"$cmd --nb_sample 30000\"\n",
    "fi\n",
    "run $cmd"
   ]
  },
  {
   "cell_type": "markdown",
   "metadata": {
    "deletable": true,
    "editable": true
   },
   "source": [
    "## Visualizing and analyzing motifs"
   ]
  },
  {
   "cell_type": "markdown",
   "metadata": {
    "deletable": true,
    "editable": true
   },
   "source": [
    "`dcpg_filter_motifs.py` enables to visualize and cluster motifs, compare motifs to known motifs, and compute motif statistics. We will compare motifs to motifs in the CIS-BP database, and plot motif heatmaps, motif activations, as well as the first two principal components of motif activations via the `--plot_heat`, `--plot_dens` and `--plot_pca` argument, respectively. In test mode, we only select filter 0, 1, and 2:"
   ]
  },
  {
   "cell_type": "code",
   "execution_count": 15,
   "metadata": {
    "collapsed": false,
    "deletable": true,
    "editable": true
   },
   "outputs": [
    {
     "name": "stdout",
     "output_type": "stream",
     "text": [
      "\r\n",
      "#################################\r\n",
      "dcpg_filter_motifs.py ./motifs/activations.h5 --out_dir ./motifs --motif_db ../../data//motif_databases/CIS-BP/Mus_musculus.meme --plot_heat --plot_dens --plot_pca --out_format png --filter -2\r\n",
      "#################################\r\n",
      "INFO (2017-03-05 19:10:22,986): Reading data\r\n",
      "Filters: 3\r\n",
      "Filter len: 11\r\n",
      "Samples: 1000\r\n",
      "INFO (2017-03-05 19:10:23,022): Performing PCA on activations using 1000 samples\r\n",
      "INFO (2017-03-05 19:10:24,148): Analyzing filters\r\n",
      "INFO (2017-03-05 19:10:24,148): -----------------\r\n",
      "INFO (2017-03-05 19:10:24,148): Filter 0\r\n",
      "INFO (2017-03-05 19:10:24,516): Plotting filter densities\r\n",
      "INFO (2017-03-05 19:10:24,866): Plotting filter heatmap\r\n",
      "INFO (2017-03-05 19:10:25,119): Extracting activating kmers\r\n",
      "INFO (2017-03-05 19:10:25,136): Plotting sequence logo\r\n",
      "INFO (2017-03-05 19:10:26,204): Computing PWM\r\n",
      "INFO (2017-03-05 19:10:26,209): Filter 1\r\n",
      "INFO (2017-03-05 19:10:26,536): Plotting filter densities\r\n",
      "INFO (2017-03-05 19:10:26,847): Plotting filter heatmap\r\n",
      "INFO (2017-03-05 19:10:27,365): Extracting activating kmers\r\n",
      "INFO (2017-03-05 19:10:27,381): Plotting sequence logo\r\n",
      "INFO (2017-03-05 19:10:27,961): Computing PWM\r\n",
      "INFO (2017-03-05 19:10:27,963): Filter 2\r\n",
      "INFO (2017-03-05 19:10:28,289): Plotting filter densities\r\n",
      "INFO (2017-03-05 19:10:28,596): Plotting filter heatmap\r\n",
      "INFO (2017-03-05 19:10:28,848): Extracting activating kmers\r\n",
      "INFO (2017-03-05 19:10:28,875): Plotting sequence logo\r\n",
      "INFO (2017-03-05 19:10:29,625): Computing PWM\r\n",
      "\r\n",
      "\r\n",
      "Filter statistics:\r\n",
      "   idx        motif  act_mean   act_std        ic  nb_site\r\n",
      "2    2  ACGCCTGCCGC  0.005773  0.028300  6.129625     6035\r\n",
      "0    0  AGGTGTACCCC  0.004393  0.024795  8.054280     2058\r\n",
      "1    1  CCGCGGGGGGG  0.002785  0.021427  7.536105     1264\r\n",
      "INFO (2017-03-05 19:10:29,636): Running tomtom\r\n",
      "\r\n",
      " tomtom -dist pearson -thresh 0.05 -oc ./motifs/tomtom ./motifs/meme.txt ../../data//motif_databases/CIS-BP/Mus_musculus.meme\r\n",
      "The output directory './motifs/tomtom' already exists.\r\n",
      "Its contents will be overwritten.\r\n",
      "Processing query 1 out of 3 \r\n",
      "Estimating pi_0 from all 1436 observed p-values.\r\n",
      "Estimating pi_0.\r\n",
      "Estimated pi_0=1\r\n",
      "Processing query 2 out of 3 \r\n",
      "Estimating pi_0 from all 1436 observed p-values.\r\n",
      "Estimating pi_0.\r\n",
      "Estimated pi_0=0.97983\r\n",
      "Processing query 3 out of 3 \r\n",
      "Estimating pi_0 from all 1436 observed p-values.\r\n",
      "Estimating pi_0.\r\n",
      "Estimated pi_0=1\r\n",
      "\r\n",
      "Tomtom results:\r\n",
      "   idx        motif  act_mean  act_std      ic  nb_site   target id   p-value   e-value   q-value  overlap query consensus target consensus orientation protein                                                url\r\n",
      "0    1  CCGCGGGGGGG    0.0028   0.0214  7.5361     1264  M6535_1.02  0.000038  0.027624  0.020922     11.0     CCGCGGGGGGG    GCGGGGGCGGGGG           +     Wt1  http://cisbp.ccbr.utoronto.ca/TFreport.php?sea...\r\n",
      "1    2  ACGCCTGCCGC    0.0058   0.0283  6.1296     6035         NaN       NaN       NaN       NaN      NaN             NaN              NaN         NaN     NaN                                                NaN\r\n",
      "2    0  AGGTGTACCCC    0.0044   0.0248  8.0543     2058         NaN       NaN       NaN       NaN      NaN             NaN              NaN         NaN     NaN                                                NaN\r\n",
      "INFO (2017-03-05 19:10:32,320): Done!\r\n"
     ]
    }
   ],
   "source": [
    "cmd=\"dcpg_filter_motifs.py\n",
    "    $motif_dir/activations.h5\n",
    "    --out_dir $motif_dir\n",
    "    --motif_db $example_dir/motif_databases/CIS-BP/Mus_musculus.meme\n",
    "    --plot_heat\n",
    "    --plot_dens\n",
    "    --plot_pca\n",
    "    --out_format png\n",
    "    \"\n",
    "if [[ $test_mode -eq 1 ]]; then\n",
    "    cmd=\"$cmd --filter -2\"\n",
    "fi\n",
    "run $cmd"
   ]
  },
  {
   "cell_type": "markdown",
   "metadata": {
    "deletable": true,
    "editable": true
   },
   "source": [
    "We can now have a look into the output motif directory. `report_top.csv` contains for each DeepCpG motif the most similar motif in the CIS-BP database. `report.csv` lists all motifs that are similar to DeepCpG motifs, not only the top motif. Both files include the following columns:\n",
    "* `idx`: Index of the filter starting with zero.\n",
    "* `motif`: The DNA sequence that is recognized by the filter.\n",
    "* `act_mean`: The mean activation of the filter. If zero, the motif has been never recognized, which means that the filter is dead. If there are a lot of dead filters, something went wrong with the training or you used too few samples for computing the activations with `dcpg_filter_act.py`.\n",
    "* `act_std`: Standard deviation of the filter activation. If high, the filter is very sensitive to a particular motif.\n",
    "* `ic`: Information content of the motifs.\n",
    "* `nb_site`: Number of sequences in alignment that was used to create the sequence logo.\n",
    "* `target_id`: Id of the found motif.\n",
    "* `q-value`: FDR adjusted p-value of the found motif.\n",
    "* `protein`: Name of the found motif."
   ]
  },
  {
   "cell_type": "code",
   "execution_count": 16,
   "metadata": {
    "collapsed": false,
    "deletable": true,
    "editable": true
   },
   "outputs": [
    {
     "name": "stdout",
     "output_type": "stream",
     "text": [
      "idx\tmotif\tact_mean\tact_std\tic\tnb_site\ttarget id\tp-value\te-value\tq-value\toverlap\tquery consensus\ttarget consensus\torientation\tprotein\turl\r\n",
      "1\tCCGCGGGGGGG\t0.003\t0.021\t7.536\t1264\tM6535_1.02\t0.000\t0.028\t0.021\t11.000\tCCGCGGGGGGG\tGCGGGGGCGGGGG\t+\tWt1\thttp://cisbp.ccbr.utoronto.ca/TFreport.php?searchTF=T049053_1.02\r\n",
      "2\tACGCCTGCCGC\t0.006\t0.028\t6.130\t6035\t\t\t\t\t\t\t\t\t\t\r\n",
      "0\tAGGTGTACCCC\t0.004\t0.025\t8.054\t2058\t\t\t\t\t\t\t\t\t\t\r\n"
     ]
    }
   ],
   "source": [
    "cat $motif_dir/report_top.csv | head -n 25"
   ]
  },
  {
   "cell_type": "markdown",
   "metadata": {
    "deletable": true,
    "editable": true
   },
   "source": [
    "Sequence logos are stored in the `logos/` directory. Let's have a look at the top-ranked motif 121-Ctcf (not true in test mode):\n",
    "<img src=\"./motifs/logos/121.png\" width=\"500px\"/>"
   ]
  },
  {
   "cell_type": "markdown",
   "metadata": {
    "collapsed": true,
    "deletable": true,
    "editable": true
   },
   "source": [
    "The corresponding PWM weight matrix stored in `heat/` looks as follows:\n",
    "<img src=\"./motifs/heat/121.png\" width=\"600px\"/>"
   ]
  },
  {
   "cell_type": "markdown",
   "metadata": {
    "deletable": true,
    "editable": true
   },
   "source": [
    "Densities of motif activations are stored in `dens/`, e.g. the density of the selected motif:\n",
    "<img src=\"./motifs/dens/121.png\" width=\"600px\"/>"
   ]
  },
  {
   "cell_type": "markdown",
   "metadata": {
    "deletable": true,
    "editable": true
   },
   "source": [
    "Finally, `plot_wmean.png` shows the two first principal components of weighted-mean motif activations in sequence windows. Motifs with similar activaton pattern cluster close to each other:\n",
    "<img src=\"./motifs/pca_mean.png\" width=\"1000px\"/>"
   ]
  }
 ],
 "metadata": {
  "kernelspec": {
   "display_name": "Bash",
   "language": "bash",
   "name": "bash"
  },
  "language_info": {
   "codemirror_mode": "shell",
   "file_extension": ".sh",
   "mimetype": "text/x-sh",
   "name": "bash"
  }
 },
 "nbformat": 4,
 "nbformat_minor": 1
}
